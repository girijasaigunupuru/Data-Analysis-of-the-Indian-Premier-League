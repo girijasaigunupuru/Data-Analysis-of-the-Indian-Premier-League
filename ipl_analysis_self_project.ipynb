{
  "cells": [
    {
      "cell_type": "markdown",
      "metadata": {
        "id": "view-in-github",
        "colab_type": "text"
      },
      "source": [
        "<a href=\"https://colab.research.google.com/github/girijasaigunupuru/Data-Analysis-of-the-Indian-Premier-League/blob/main/ipl_analysis_self_project.ipynb\" target=\"_parent\"><img src=\"https://colab.research.google.com/assets/colab-badge.svg\" alt=\"Open In Colab\"/></a>"
      ]
    },
    {
      "cell_type": "code",
      "execution_count": null,
      "metadata": {
        "id": "guBud6BpUDzN"
      },
      "outputs": [],
      "source": [
        ""
      ]
    },
    {
      "cell_type": "code",
      "execution_count": 196,
      "metadata": {
        "id": "o1qBfa0WVb5I",
        "colab": {
          "base_uri": "https://localhost:8080/"
        },
        "outputId": "63fda830-a1f3-44be-d949-b4b9131379e6"
      },
      "outputs": [
        {
          "output_type": "stream",
          "name": "stdout",
          "text": [
            "Drive already mounted at /content/drive; to attempt to forcibly remount, call drive.mount(\"/content/drive\", force_remount=True).\n"
          ]
        }
      ],
      "source": [
        "from google.colab import drive\n",
        "drive.mount('/content/drive')"
      ]
    },
    {
      "cell_type": "code",
      "execution_count": 197,
      "metadata": {
        "id": "BYoQKxKuW95d"
      },
      "outputs": [],
      "source": [
        "import pandas as pd\n",
        "import matplotlib.pyplot as plt\n",
        "import numpy as np"
      ]
    },
    {
      "cell_type": "code",
      "execution_count": null,
      "metadata": {
        "id": "SNVwWsavW-XQ"
      },
      "outputs": [],
      "source": [
        "deliveries =  pd.read_csv('/content/drive/MyDrive/data_files/deliveries.csv',)\n",
        "matches=pd.read_csv('/content/drive/MyDrive/data_files/matches.csv')"
      ]
    },
    {
      "cell_type": "code",
      "execution_count": null,
      "metadata": {
        "id": "_Lf-pWh4W-j0"
      },
      "outputs": [],
      "source": [
        "matches.head()"
      ]
    },
    {
      "cell_type": "code",
      "execution_count": null,
      "metadata": {
        "id": "qwq-Nj_YW-l_"
      },
      "outputs": [],
      "source": [
        "#checking basic stats'\n",
        "matches.describe()"
      ]
    },
    {
      "cell_type": "code",
      "execution_count": null,
      "metadata": {
        "id": "HxLqN_mDQDNN"
      },
      "outputs": [],
      "source": [
        "matches.isnull().sum()"
      ]
    },
    {
      "cell_type": "code",
      "execution_count": null,
      "metadata": {
        "id": "vJ2g5FSOW-oO"
      },
      "outputs": [],
      "source": [
        "deliveries.info()"
      ]
    },
    {
      "cell_type": "code",
      "execution_count": null,
      "metadata": {
        "id": "cGCwwp7xW-sn"
      },
      "outputs": [],
      "source": [
        "#checking for null values in corresponding columns\n",
        "deliveries.isnull().sum()"
      ]
    },
    {
      "cell_type": "code",
      "execution_count": null,
      "metadata": {
        "id": "cJ9k14SMW-uk"
      },
      "outputs": [],
      "source": [
        "#Filling the values of city based on venue\n",
        "conditions = [matches[\"venue\"] == \"Rajiv Gandhi International Stadium, Uppal\",matches[\"venue\"] == \"Maharashtra Cricket Association Stadium\",\n",
        "              matches[\"venue\"] == \"Saurashtra Cricket Association Stadium\", matches[\"venue\"] == \"Holkar Cricket Stadium\",\n",
        "              matches[\"venue\"] == \"M Chinnaswamy Stadium\",matches[\"venue\"] == \"Wankhede Stadium\",\n",
        "              matches[\"venue\"] == \"Eden Gardens\",matches[\"venue\"] == \"Feroz Shah Kotla\",\n",
        "              matches[\"venue\"] == \"Punjab Cricket Association IS Bindra Stadium, Mohali\",matches[\"venue\"] == \"Green Park\",\n",
        "              matches[\"venue\"] == \"Punjab Cricket Association Stadium, Mohali\",matches[\"venue\"] == \"Dr DY Patil Sports Academy\",\n",
        "              matches[\"venue\"] == \"Sawai Mansingh Stadium\", matches[\"venue\"] == \"MA Chidambaram Stadium, Chepauk\", \n",
        "              matches[\"venue\"] == \"Newlands\", matches[\"venue\"] == \"St George's Park\" , \n",
        "              matches[\"venue\"] == \"Kingsmead\", matches[\"venue\"] == \"SuperSport Park\",\n",
        "              matches[\"venue\"] == \"Buffalo Park\", matches[\"venue\"] == \"New Wanderers Stadium\",\n",
        "              matches[\"venue\"] == \"De Beers Diamond Oval\", matches[\"venue\"] == \"OUTsurance Oval\", \n",
        "              matches[\"venue\"] == \"Brabourne Stadium\",matches[\"venue\"] == \"Sardar Patel Stadium\", \n",
        "              matches[\"venue\"] == \"Barabati Stadium\", matches[\"venue\"] == \"Vidarbha Cricket Association Stadium, Jamtha\",\n",
        "              matches[\"venue\"] == \"Himachal Pradesh Cricket Association Stadium\",matches[\"venue\"] == \"Nehru Stadium\",\n",
        "              matches[\"venue\"] == \"Dr. Y.S. Rajasekhara Reddy ACA-VDCA Cricket Stadium\",matches[\"venue\"] == \"Subrata Roy Sahara Stadium\",\n",
        "              matches[\"venue\"] == \"Shaheed Veer Narayan Singh International Stadium\",matches[\"venue\"] == \"JSCA International Stadium Complex\",\n",
        "              matches[\"venue\"] == \"Sheikh Zayed Stadium\",matches[\"venue\"] == \"Sharjah Cricket Stadium\",\n",
        "              matches[\"venue\"] == \"Dubai International Cricket Stadium\",matches[\"venue\"] == \"M. A. Chidambaram Stadium\",\n",
        "              matches[\"venue\"] == \"Feroz Shah Kotla Ground\",matches[\"venue\"] == \"M. Chinnaswamy Stadium\",\n",
        "              matches[\"venue\"] == \"Rajiv Gandhi Intl. Cricket Stadium\" ,matches[\"venue\"] == \"IS Bindra Stadium\",matches[\"venue\"] == \"ACA-VDCA Stadium\"]\n",
        "values = ['Hyderabad', 'Mumbai', 'Rajkot',\"Indore\",\"Bengaluru\",\"Mumbai\",\"Kolkata\",\"Delhi\",\"Mohali\",\"Kanpur\",\"Mohali\",\"Pune\",\"Jaipur\",\"Chennai\",\"Cape Town\",\"Port Elizabeth\",\"Durban\",\n",
        "          \"Centurion\",'Eastern Cape','Johannesburg','Northern Cape','Bloemfontein','Mumbai','Ahmedabad','Cuttack','Jamtha','Dharamshala','Chennai','Visakhapatnam','Pune','Raipur','Ranchi',\n",
        "          'Abu Dhabi','Sharjah','Dubai','Chennai','Delhi','Bengaluru','Hyderabad','Mohali','Visakhapatnam']\n",
        "matches['city'] = np.where(matches['city'].isnull(),\n",
        "                              np.select(conditions, values),\n",
        "                              matches['city'])\n",
        "\n",
        "#Removing records having null values in \"winner\" column\n",
        "matches=matches[matches[\"winner\"].notna()]"
      ]
    },
    {
      "cell_type": "code",
      "execution_count": null,
      "metadata": {
        "id": "mTw8K4LHW-wm"
      },
      "outputs": [],
      "source": [
        "matches['team1'].unique()"
      ]
    },
    {
      "cell_type": "code",
      "execution_count": null,
      "metadata": {
        "id": "ZBz690tlW-zP"
      },
      "outputs": [],
      "source": [
        "matches.replace(['Rising Pune Supergiant', 'Pune Warriors',\n",
        "       'Delhi Capitals'],['Rising Pune Supergiants','Rising Pune Supergiants','Delhi Daredevils'], inplace=True)"
      ]
    },
    {
      "cell_type": "code",
      "execution_count": null,
      "metadata": {
        "id": "F9DxDHTnSwUF"
      },
      "outputs": [],
      "source": [
        "matches1=matches.copy()"
      ]
    },
    {
      "cell_type": "code",
      "execution_count": null,
      "metadata": {
        "id": "9yBIjRaMW-2n"
      },
      "outputs": [],
      "source": [
        "# Import label encoder\n",
        "from sklearn import preprocessing\n",
        "\n",
        "# label_encoder object knows how to understand word labels.\n",
        "label_encoder = preprocessing.LabelEncoder()\n",
        "\n",
        "# Encode labels in column 'species'.\n",
        "matches['team1']= label_encoder.fit_transform(matches['team1'])\n",
        "\n",
        "matches['team1'].unique()\n"
      ]
    },
    {
      "cell_type": "code",
      "execution_count": null,
      "metadata": {
        "id": "RGmBXDwrLCKP"
      },
      "outputs": [],
      "source": [
        "\n",
        "matches['team2']= label_encoder.fit_transform(matches['team2'])\n",
        "matches['toss_winner']= label_encoder.fit_transform(matches['toss_winner']) \n",
        "matches['winner']=label_encoder.fit_transform(matches['winner']) \n",
        "matches['venue']=label_encoder.fit_transform(matches['venue'])  \n",
        "                                    \n"
      ]
    },
    {
      "cell_type": "code",
      "execution_count": null,
      "metadata": {
        "id": "F8qZ5gBpLO7O"
      },
      "outputs": [],
      "source": [
        "matches.head()"
      ]
    },
    {
      "cell_type": "markdown",
      "metadata": {
        "id": "DeB57hQMK-a5"
      },
      "source": [
        ""
      ]
    },
    {
      "cell_type": "code",
      "execution_count": null,
      "metadata": {
        "id": "M3lpfEdjLOQ2"
      },
      "outputs": [],
      "source": [
        "matches.drop(['umpire3'],axis=1,inplace=True)"
      ]
    },
    {
      "cell_type": "code",
      "execution_count": null,
      "metadata": {
        "id": "oin28YBdQox5"
      },
      "outputs": [],
      "source": [
        "matches.head()"
      ]
    },
    {
      "cell_type": "code",
      "execution_count": null,
      "metadata": {
        "id": "5PLNKN2PQrGx"
      },
      "outputs": [],
      "source": [
        "matches = matches[matches['winner'].notna()]"
      ]
    },
    {
      "cell_type": "code",
      "execution_count": null,
      "metadata": {
        "id": "Imwfu52vR2H5"
      },
      "outputs": [],
      "source": [
        "matches"
      ]
    },
    {
      "cell_type": "code",
      "execution_count": null,
      "metadata": {
        "id": "-qXLfzVmTUXO"
      },
      "outputs": [],
      "source": [
        "matches1.head()"
      ]
    },
    {
      "cell_type": "code",
      "execution_count": null,
      "metadata": {
        "id": "2PfxpkuUf9A4"
      },
      "outputs": [],
      "source": [
        "matches2=matches1[['season','winner']]"
      ]
    },
    {
      "cell_type": "code",
      "execution_count": null,
      "metadata": {
        "id": "42E5RkUigKsx"
      },
      "outputs": [],
      "source": [
        "matches3=matches2.groupby('season')['winner'].value_counts()"
      ]
    },
    {
      "cell_type": "code",
      "execution_count": null,
      "metadata": {
        "id": "dBKdYcj9hvkL"
      },
      "outputs": [],
      "source": [
        "matches3"
      ]
    },
    {
      "cell_type": "code",
      "execution_count": null,
      "metadata": {
        "id": "tyLwiflukrAw"
      },
      "outputs": [],
      "source": [
        "\"\"\"\n",
        "for i, v in win_per_season.iteritems():\n",
        "    print(i, v)\n",
        "    \n",
        "for items in win_per_season.iteritems():\n",
        "    print(items)    \n",
        "\"\"\"\n",
        "year = 2008\n",
        "win_per_season_df = pd.DataFrame(columns=['year', 'team', 'wins'])\n",
        "for items in matches3.iteritems():    \n",
        "    if items[0][0]==year:\n",
        "        print(items)\n",
        "        win_series = pd.DataFrame({\n",
        "            'year': [items[0][0]],\n",
        "            'team': [items[0][1]],\n",
        "            'wins': [items[1]]\n",
        "        })\n",
        "        win_per_season_df = win_per_season_df.append(win_series)\n",
        "        year += 1   "
      ]
    },
    {
      "cell_type": "code",
      "execution_count": null,
      "metadata": {
        "id": "kAS_iQ6PkrDC"
      },
      "outputs": [],
      "source": [
        "win_per_season_df.head()"
      ]
    },
    {
      "cell_type": "code",
      "execution_count": null,
      "metadata": {
        "id": "oO-o5qqFkrFL"
      },
      "outputs": [],
      "source": [
        "import seaborn as sns\n",
        "sns.catplot(x='wins',y='team',data=win_per_season_df,hue='year',kind='bar')"
      ]
    },
    {
      "cell_type": "code",
      "execution_count": null,
      "metadata": {
        "id": "yz6pqfrTkrHO"
      },
      "outputs": [],
      "source": [
        "# 2) Which stadium hosted the most number of IPL matches?\n",
        "# Explore value_counts() function in PD and make a separate df with columns “venue” and “matches”.\n",
        "# Make a bar plot with Seaborn / Plotly. (Take help from (1) in EDA resources and from (5) for plotly\n",
        "# plots)\n"
      ]
    },
    {
      "cell_type": "code",
      "execution_count": null,
      "metadata": {
        "id": "5DX8d6Hsue6q"
      },
      "outputs": [],
      "source": [
        "matches1['venue'].value_counts()"
      ]
    },
    {
      "cell_type": "code",
      "execution_count": null,
      "metadata": {
        "id": "5vk0XdhDkrKb"
      },
      "outputs": [],
      "source": [
        "import matplotlib.pyplot as plt\n",
        "plt.figure(figsize=(20,20))\n",
        "sns.catplot(y='venue',data=matches1,kind='count')"
      ]
    },
    {
      "cell_type": "code",
      "execution_count": null,
      "metadata": {
        "id": "7iD6WFx1vLNl"
      },
      "outputs": [],
      "source": [
        "matches1['winner'].value_counts(sort=True,normalize=True)"
      ]
    },
    {
      "cell_type": "code",
      "execution_count": null,
      "metadata": {
        "id": "UNGi3DPSvLa2"
      },
      "outputs": [],
      "source": [
        "matches1['player_of_match'].value_counts()"
      ]
    },
    {
      "cell_type": "code",
      "execution_count": null,
      "metadata": {
        "id": "2FYEgatNxY5o"
      },
      "outputs": [],
      "source": [
        "matches1['toss_winner'].value_counts()"
      ]
    },
    {
      "cell_type": "code",
      "execution_count": null,
      "metadata": {
        "id": "XxQFAxCKSVjm"
      },
      "outputs": [],
      "source": [
        ""
      ]
    },
    {
      "cell_type": "code",
      "execution_count": null,
      "metadata": {
        "id": "HpZzPKPI0f_e"
      },
      "outputs": [],
      "source": [
        "team_wins=matches1['winner'].value_counts()\n",
        "team_wins"
      ]
    },
    {
      "cell_type": "markdown",
      "metadata": {
        "id": "XSiV_m0wQ8xA"
      },
      "source": [
        ""
      ]
    },
    {
      "cell_type": "code",
      "execution_count": null,
      "metadata": {
        "id": "o_KpbZbkR4YJ"
      },
      "outputs": [],
      "source": [
        ""
      ]
    },
    {
      "cell_type": "code",
      "execution_count": null,
      "metadata": {
        "id": "lMA8kEYI1pTs"
      },
      "outputs": [],
      "source": [
        "team_wins_df = pd.DataFrame(columns=['team', 'wins'])\n",
        "\n",
        "for items in team_wins.iteritems(): \n",
        "   series = pd.DataFrame({\n",
        "            'team': [items[0]],\n",
        "            'wins': [items[1]]\n",
        "        })\n",
        "   team_wins_df = team_wins_df.append(series,ignore_index=True)"
      ]
    },
    {
      "cell_type": "code",
      "execution_count": null,
      "metadata": {
        "id": "30w0XL9wR4lh"
      },
      "outputs": [],
      "source": [
        ""
      ]
    },
    {
      "cell_type": "code",
      "execution_count": null,
      "metadata": {
        "id": "-87nF4wi15pd"
      },
      "outputs": [],
      "source": [
        "team_wins_df"
      ]
    },
    {
      "cell_type": "code",
      "execution_count": null,
      "metadata": {
        "id": "jYP4FgQPR4sQ"
      },
      "outputs": [],
      "source": [
        ""
      ]
    },
    {
      "cell_type": "code",
      "execution_count": null,
      "metadata": {
        "id": "D85oLhLc2UMF"
      },
      "outputs": [],
      "source": [
        "sns.barplot(x='wins', y='team', data=team_wins_df, palette='Paired');\n"
      ]
    },
    {
      "cell_type": "code",
      "execution_count": null,
      "metadata": {
        "id": "TJupoio5R46d"
      },
      "outputs": [],
      "source": [
        ""
      ]
    },
    {
      "cell_type": "code",
      "execution_count": null,
      "metadata": {
        "id": "3Z30YUuv5Szl"
      },
      "outputs": [],
      "source": [
        "player_wins=matches1['player_of_match'].value_counts()\n",
        "player_wins"
      ]
    },
    {
      "cell_type": "code",
      "execution_count": null,
      "metadata": {
        "id": "3mP-TH0qR5Jj"
      },
      "outputs": [],
      "source": [
        ""
      ]
    },
    {
      "cell_type": "code",
      "execution_count": null,
      "metadata": {
        "id": "69Ol94AU8GbN"
      },
      "outputs": [],
      "source": [
        "player_wins_df = pd.DataFrame(columns=['player', 'wins'])\n",
        "count=0\n",
        "for items in player_wins.iteritems(): \n",
        "\n",
        "  if count>9:\n",
        "    break\n",
        "  else: \n",
        "    series = pd.DataFrame({\n",
        "            'player': [items[0]],\n",
        "            'wins': [items[1]]\n",
        "        })\n",
        "  player_wins_df = player_wins_df.append(series,ignore_index=True)\n",
        "  count=count+1"
      ]
    },
    {
      "cell_type": "code",
      "execution_count": null,
      "metadata": {
        "id": "F4X4ccUlR5ND"
      },
      "outputs": [],
      "source": [
        ""
      ]
    },
    {
      "cell_type": "code",
      "execution_count": null,
      "metadata": {
        "id": "N-GvThd28Vol"
      },
      "outputs": [],
      "source": [
        "sns.barplot(x='wins', y='player', data=player_wins_df, palette='Paired');\n"
      ]
    },
    {
      "cell_type": "code",
      "execution_count": null,
      "metadata": {
        "id": "M7w0eDer6PaQ"
      },
      "outputs": [],
      "source": [
        "team_tosswins=matches1['toss_winner'].value_counts()\n",
        "team_tosswins"
      ]
    },
    {
      "cell_type": "code",
      "execution_count": null,
      "metadata": {
        "id": "R3sW5R6c9Lbm"
      },
      "outputs": [],
      "source": [
        "team_tosswins_df = pd.DataFrame(columns=['team', 'wins'])\n",
        "\n",
        "for items in team_tosswins.iteritems(): \n",
        "   series = pd.DataFrame({\n",
        "            'team': [items[0]],\n",
        "            'tosswins': [items[1]]\n",
        "        })\n",
        "   team_tosswins_df = team_tosswins_df.append(series,ignore_index=True)"
      ]
    },
    {
      "cell_type": "code",
      "execution_count": null,
      "metadata": {
        "id": "ErYS1eQv6euK"
      },
      "outputs": [],
      "source": [
        "sns.barplot(x='tosswins', y='team', data=team_tosswins_df, palette='Paired');\n"
      ]
    },
    {
      "cell_type": "code",
      "execution_count": null,
      "metadata": {
        "id": "LQZG_HUsTn-Z"
      },
      "outputs": [],
      "source": [
        ""
      ]
    },
    {
      "cell_type": "code",
      "execution_count": null,
      "metadata": {
        "id": "i6CPVQUO91Le"
      },
      "outputs": [],
      "source": [
        "victories_runs=matches1['win_by_runs'].value_counts()\n",
        "victories_runs.sort_values(ascending=True)"
      ]
    },
    {
      "cell_type": "code",
      "execution_count": null,
      "metadata": {
        "id": "89kMy4LQ-Yvk"
      },
      "outputs": [],
      "source": [
        "victories_wickets=matches1['win_by_wickets'].value_counts()\n",
        "victories_wickets"
      ]
    },
    {
      "cell_type": "code",
      "execution_count": null,
      "metadata": {
        "id": "X-LghS67K_M_"
      },
      "outputs": [],
      "source": [
        "deliveries.head()"
      ]
    },
    {
      "cell_type": "code",
      "execution_count": null,
      "metadata": {
        "id": "3bPFNu-1H_kj"
      },
      "outputs": [],
      "source": [
        "deliveries.head()"
      ]
    },
    {
      "cell_type": "code",
      "execution_count": null,
      "metadata": {
        "id": "dperFkcFaIAM"
      },
      "outputs": [],
      "source": [
        "cen = deliveries.groupby(['batsman','match_id']).agg({'batsman_runs':'sum'})\n",
        "cen = cen[cen['batsman_runs']>=100]\n",
        "cen = cen.groupby(['batsman']).agg({'count'})\n",
        "cen.columns = cen.columns.droplevel()\n",
        "cen = cen.sort_values(by='count',ascending=False).reset_index()\n",
        "\n",
        "half_cen = deliveries.groupby(['batsman','match_id']).agg({'batsman_runs':'sum'})\n",
        "half_cen = half_cen[half_cen['batsman_runs']>=50]\n",
        "half_cen = half_cen[half_cen['batsman_runs']<100]\n",
        "half_cen = half_cen.groupby(['batsman']).agg({'count'})\n",
        "half_cen.columns = half_cen.columns.droplevel()\n",
        "half_cen = half_cen.sort_values(by='count',ascending=False).reset_index()\n"
      ]
    },
    {
      "cell_type": "code",
      "execution_count": null,
      "metadata": {
        "id": "gvogWVMdWUv7"
      },
      "outputs": [],
      "source": [
        "matches.head()"
      ]
    },
    {
      "cell_type": "code",
      "execution_count": null,
      "metadata": {
        "id": "fXKXkNXeXa8s"
      },
      "outputs": [],
      "source": [
        "matches.loc[matches[\"winner\"]==matches[\"team1\"],\"team1_win\"]=1\n",
        "matches.loc[matches[\"winner\"]!=matches[\"team1\"],\"team1_win\"]=0\n",
        "matches.loc[matches[\"toss_winner\"]==matches[\"team1\"],\"team1_toss_win\"]=1\n",
        "matches.loc[matches[\"toss_winner\"]!=matches[\"team1\"],\"team1_toss_win\"]=0\n",
        "matches[\"team1_bat\"]=0\n",
        "matches.loc[(matches[\"team1_toss_win\"]==1) & (matches[\"toss_decision\"]==\"bat\"),\"team1_bat\"]=1\n",
        "matches.head()"
      ]
    },
    {
      "cell_type": "code",
      "execution_count": null,
      "metadata": {
        "id": "Q2R0ILiZZJAY"
      },
      "outputs": [],
      "source": [
        ""
      ]
    },
    {
      "cell_type": "code",
      "execution_count": null,
      "metadata": {
        "id": "XicYeUAscBVN"
      },
      "outputs": [],
      "source": [
        "from sklearn.preprocessing import LabelEncoder\n",
        "from sklearn.ensemble import RandomForestClassifier\n",
        "from sklearn.linear_model import LogisticRegression\n",
        "from sklearn.model_selection import train_test_split\n",
        "from sklearn.feature_selection import RFE\n",
        "from sklearn.preprocessing import StandardScaler\n",
        "from sklearn.svm import SVC\n",
        "from sklearn.tree import DecisionTreeClassifier\n",
        "from sklearn.metrics import confusion_matrix, classification_report"
      ]
    },
    {
      "cell_type": "code",
      "execution_count": null,
      "metadata": {
        "id": "Z6y83zjKYjLT"
      },
      "outputs": [],
      "source": [
        "prediction_df=matches[[\"team1\",\"team2\",\"team1_toss_win\",\"team1_bat\",\"team1_win\",\"venue\"]]\n",
        "correlated_features = set()\n",
        "correlation_matrix = prediction_df.drop('team1_win', axis=1).corr()\n",
        "\n",
        "for i in range(len(correlation_matrix.columns)):\n",
        "    for j in range(i):\n",
        "        if abs(correlation_matrix.iloc[i, j]) > 0.9:\n",
        "            column = correlation_matrix.columns[i]\n",
        "            correlated_features.add(column)\n",
        "            \n",
        "prediction_df.drop(columns=correlated_features)\n",
        "prediction_df.head()"
      ]
    },
    {
      "cell_type": "code",
      "execution_count": null,
      "metadata": {
        "id": "TOAe7HR5gNaa"
      },
      "outputs": [],
      "source": [
        "prediction_df['team1_win'].value_counts()"
      ]
    },
    {
      "cell_type": "code",
      "execution_count": null,
      "metadata": {
        "id": "fZO1vjTaa-Oi"
      },
      "outputs": [],
      "source": [
        "X = prediction_df.drop('team1_win', axis=1)\n",
        "target = prediction_df['team1_win']\n",
        "target=target.astype(int)"
      ]
    },
    {
      "cell_type": "code",
      "execution_count": null,
      "metadata": {
        "id": "KgKdpQSheMt4"
      },
      "outputs": [],
      "source": [
        "from sklearn.model_selection import train_test_split\n",
        "X_train, X_test, y_train, y_test = train_test_split(X, target, test_size=0.1, random_state=2,shuffle=True)"
      ]
    },
    {
      "cell_type": "code",
      "execution_count": null,
      "metadata": {
        "id": "cxh7md2vc7Kg"
      },
      "outputs": [],
      "source": [
        "\n",
        "X_train, X_test, y_train, y_test = train_test_split(X, target, test_size=0.2, random_state=0)\n",
        "sc = StandardScaler()\n",
        "X_train = sc.fit_transform(X_train)\n",
        "X_test = sc.transform(X_test)\n",
        "\n",
        "#Logistic Regression\n",
        "logreg = LogisticRegression()\n",
        "logreg.fit(X_train, y_train)\n",
        "y_pred = logreg.predict(X_test)\n",
        "print(confusion_matrix(y_test,y_pred))\n",
        "print(classification_report(y_test,y_pred))\n",
        "print('Accuracy of logistic regression classifier on test set: {:.4f}'.format(logreg.score(X_test, y_test)))\n",
        "\n",
        "#SVM\n",
        "svm=SVC()\n",
        "svm.fit(X_train,y_train)\n",
        "svm.score(X_test,y_test)\n",
        "y_pred = svm.predict(X_test)\n",
        "print(confusion_matrix(y_test,y_pred))\n",
        "print(classification_report(y_test,y_pred))\n",
        "print('Accuracy of SVM classifier on test set: {:.4f}'.format(svm.score(X_test, y_test)))\n",
        "\n",
        "#Decision Tree Classifier\n",
        "dtree=DecisionTreeClassifier()\n",
        "dtree.fit(X_train,y_train)\n",
        "dtree.score(X_test,y_test)\n",
        "y_pred = dtree.predict(X_test)\n",
        "print(confusion_matrix(y_test,y_pred))\n",
        "print(classification_report(y_test,y_pred))\n",
        "print('Accuracy of decision tree classifier on test set: {:.4f}'.format(dtree.score(X_test, y_test)))\n",
        "\n",
        "#Random Forest Classifier\n",
        "randomForest= RandomForestClassifier(n_estimators=100)\n",
        "randomForest.fit(X_train,y_train)\n",
        "randomForest.score(X_test,y_test)\n",
        "y_pred = randomForest.predict(X_test)\n",
        "print(\"Confusion matrix\\n\",confusion_matrix(y_test,y_pred))\n",
        "print(classification_report(y_test,y_pred))\n",
        "print('Accuracy of random forest classifier on test set: {:.4f}'.format(randomForest.score(X_test, y_test)))\n",
        "\n"
      ]
    },
    {
      "cell_type": "code",
      "execution_count": null,
      "metadata": {
        "id": "HkpV7N7Kmflc"
      },
      "outputs": [],
      "source": [
        "df1=pd.read_csv('/content/drive/MyDrive/data_files/IPL Ball-by-Ball 2008-2020.csv')\n",
        "df2=pd.read_csv('/content/drive/MyDrive/data_files/IPL Matches 2008-2020.csv')\n",
        "\n",
        "df2.head()"
      ]
    },
    {
      "cell_type": "code",
      "execution_count": null,
      "metadata": {
        "id": "GVTyRPCHzqBy"
      },
      "outputs": [],
      "source": [
        "data = pd.merge(left=df2, right=df1, on='id', how='right')\n",
        "print(data.shape)\n",
        "data.head()"
      ]
    },
    {
      "cell_type": "code",
      "execution_count": null,
      "metadata": {
        "id": "bFc5z5CT1FQN"
      },
      "outputs": [],
      "source": [
        "data['date'] = pd.to_datetime(data['date'])\n",
        "data['year'] = pd.DatetimeIndex(data['date']).year\n",
        "data['over'] = data['over']+1\n",
        "data.head()"
      ]
    },
    {
      "cell_type": "code",
      "execution_count": null,
      "metadata": {
        "id": "e4pz-VF_1fnv"
      },
      "outputs": [],
      "source": [
        "data['inning'] = data['id'].astype(str)+(data['batting_team']).astype(str)\n",
        "data.head()"
      ]
    },
    {
      "cell_type": "code",
      "execution_count": null,
      "metadata": {
        "id": "z_Bdd6M_1kgh"
      },
      "outputs": [],
      "source": [
        "list1 = data['inning'].unique()\n",
        "(list1)"
      ]
    },
    {
      "cell_type": "code",
      "execution_count": null,
      "metadata": {
        "id": "cKQ99cE-1rE_"
      },
      "outputs": [],
      "source": [
        "data.loc[(data['over'] == 20) & (data['ball'] == 6) & (data['inning'] == list1[0])]"
      ]
    },
    {
      "cell_type": "code",
      "execution_count": null,
      "metadata": {
        "id": "WJ7_U6v11wsW"
      },
      "outputs": [],
      "source": [
        "data2 = data.copy()\n",
        "data2 = data2.groupby(by=['inning']).sum()['total_runs'].reset_index()\n",
        "data2.head()"
      ]
    },
    {
      "cell_type": "code",
      "execution_count": null,
      "metadata": {
        "id": "X4eeIepC11jf"
      },
      "outputs": [],
      "source": [
        "data3 = pd.merge(left=data2, right=data, on='inning', how='right')\n",
        "print(data3.shape)\n",
        "data3.head()"
      ]
    },
    {
      "cell_type": "code",
      "execution_count": null,
      "metadata": {
        "id": "LF455dCh1922"
      },
      "outputs": [],
      "source": [
        "container = pd.DataFrame()\n",
        "for i in range(len(list1)):\n",
        "    one_inning = data3.loc[data3['inning']==list1[i]]\n",
        "    one_inning = one_inning.sort_values(['over', 'ball'], ascending=[True, True])\n",
        "    one_inning = one_inning[['over','ball',\n",
        "            'batsman_runs','extra_runs','total_runs_y','non_boundary','is_wicket','total_runs_x']].reset_index(drop=True)\n",
        "    one_inning['CUMSUM_runs'] = one_inning['total_runs_y'].cumsum()\n",
        "    one_inning['CUMSUM_wickets'] = one_inning['is_wicket'].cumsum()\n",
        "\n",
        "    one_inning.tail()\n",
        "    frame = [container,one_inning]\n",
        "    container = pd.concat(frame)\n",
        "print(data3.shape)\n",
        "print(container.shape)"
      ]
    },
    {
      "cell_type": "code",
      "execution_count": null,
      "metadata": {
        "id": "m-mDsCQO2C36"
      },
      "outputs": [],
      "source": [
        "data3 = container.copy()\n",
        "container.head()"
      ]
    },
    {
      "cell_type": "code",
      "execution_count": null,
      "metadata": {
        "id": "j8Xds0Xa2MZB"
      },
      "outputs": [],
      "source": [
        "featureColumns = ['over','ball',\n",
        "         'batsman_runs','extra_runs','total_runs_y','non_boundary','is_wicket','CUMSUM_runs','CUMSUM_wickets']\n",
        "print(len(featureColumns))"
      ]
    },
    {
      "cell_type": "code",
      "execution_count": null,
      "metadata": {
        "id": "tcc1WWJz2VUs"
      },
      "outputs": [],
      "source": [
        "data3['over_cur'] = data3['over'] + data3['ball']/10\n",
        "data3 = data3[['over_cur',\n",
        "         'batsman_runs','total_runs_y','CUMSUM_runs','CUMSUM_wickets','total_runs_x']]\n",
        "data3.astype(float)\n",
        "data3 = data3.fillna(-99.00)\n",
        "data3.isnull().values.any()\n",
        "import pandas as pd\n",
        "from sklearn import preprocessing\n",
        "data3.head()"
      ]
    },
    {
      "cell_type": "code",
      "execution_count": null,
      "metadata": {
        "id": "q9oc2_A84KQB"
      },
      "outputs": [],
      "source": [
        " !gdown --id  1CYejwMjjr1-8LoV4zJyU--QDNQBG0zbT"
      ]
    },
    {
      "cell_type": "code",
      "execution_count": null,
      "metadata": {
        "id": "ipzg-pSSt_17"
      },
      "outputs": [],
      "source": [
        "def custom_accuracy(y_test,y_pred,thresold=10):\n",
        "    right = 0\n",
        "    l = len(y_pred)\n",
        "    for i in range(0,l):\n",
        "        if(abs(y_pred[i]-y_test[i]) <= thresold):\n",
        "            right += 1\n",
        "        # else:\n",
        "        #     print('p',y_pred[i]*300,y_test[i]*300)\n",
        "    return (right)"
      ]
    },
    {
      "cell_type": "code",
      "execution_count": null,
      "metadata": {
        "id": "F8hC3_yyvDVK"
      },
      "outputs": [],
      "source": [
        "def custom_accuracy2(y_test,y_pred,thresold):\n",
        "    right = 0\n",
        "    l = len(y_pred)\n",
        "    for i in range(0,l):\n",
        "        if(abs(y_pred[i]-y_test[i]) <= thresold):\n",
        "            right += 1\n",
        "    return ((right/l)*100)"
      ]
    },
    {
      "cell_type": "code",
      "execution_count": null,
      "metadata": {
        "id": "liwb-u3NvM25"
      },
      "outputs": [],
      "source": [
        "dataset = pd.read_csv('/content/ipl.csv')\n",
        "print(\"Size of Dataset:\", len(dataset))\n",
        "X = dataset.iloc[:,[7,8,9,12,13]].values #Input features\n",
        "y = dataset.iloc[:, 14].values #Label\n",
        "\n",
        "X_train, X_test, y_train, y_test = train_test_split(X, y, test_size = 0.25, random_state = 0)\n",
        "\n",
        "sc = StandardScaler()\n",
        "X_train = sc.fit_transform(X_train)\n",
        "X_test = sc.transform(X_test)"
      ]
    },
    {
      "cell_type": "code",
      "execution_count": null,
      "metadata": {
        "id": "6abTpN7MyBUh"
      },
      "outputs": [],
      "source": [
        "from sklearn.linear_model import LinearRegression,Ridge,SGDRegressor,ElasticNet\n",
        "from sklearn import linear_model\n",
        "from sklearn.preprocessing import StandardScaler\n",
        "from sklearn.model_selection import train_test_split\n",
        "from sklearn.utils import shuffle\n",
        "from sklearn.utils.validation import check_array \n",
        "from sklearn.metrics import r2_score, mean_squared_error, mean_absolute_error\n",
        "from sklearn.svm import LinearSVR\n",
        "from sklearn.tree import DecisionTreeRegressor\n",
        "from sklearn.ensemble import RandomForestRegressor,ExtraTreesRegressor,GradientBoostingRegressor,AdaBoostRegressor,BaggingRegressor"
      ]
    },
    {
      "cell_type": "code",
      "execution_count": null,
      "metadata": {
        "id": "TJ5KmNJOvSLq"
      },
      "outputs": [],
      "source": [
        "GradientBoostingRegressor().get_params().keys()"
      ]
    },
    {
      "cell_type": "code",
      "execution_count": null,
      "metadata": {
        "id": "nWQueCBayNQs"
      },
      "outputs": [],
      "source": [
        "from sklearn.model_selection import GridSearchCV\n",
        "param_grid_rf = {\n",
        "              #\"n_estimators\": [200,300],\n",
        "              \"learning_rate\": [0.25,0.5,0.75],\n",
        "              \"max_depth\": [10,14,18],           \n",
        "             }         \n",
        "gr_rf = GridSearchCV(GradientBoostingRegressor(),param_grid_rf,cv=2,verbose=2)\n",
        "gr_rf.fit(X_train,y_train)"
      ]
    },
    {
      "cell_type": "code",
      "execution_count": null,
      "metadata": {
        "colab": {
          "background_save": true
        },
        "id": "H0WTVQP2ybYK",
        "outputId": "60736d5f-c52b-4e06-c977-83e30429c10a"
      },
      "outputs": [
        {
          "data": {
            "text/plain": [
              "{'learning_rate': 0.25, 'max_depth': 10}"
            ]
          },
          "execution_count": 153,
          "metadata": {},
          "output_type": "execute_result"
        }
      ],
      "source": [
        "gr_rf.best_params_"
      ]
    },
    {
      "cell_type": "code",
      "execution_count": null,
      "metadata": {
        "colab": {
          "background_save": true
        },
        "id": "0bxeqUMVyfFh",
        "outputId": "14ce1f20-0b0e-4d7b-d2b6-b00c41d33aea"
      },
      "outputs": [
        {
          "name": "stdout",
          "output_type": "stream",
          "text": [
            "R-squared value: 0.633 \n",
            "Custom accuracy: 65.323 %\n"
          ]
        }
      ],
      "source": [
        "rf_best = GradientBoostingRegressor(random_state=300,\n",
        "                                    n_estimators =5000,\n",
        "                                    learning_rate=gr_rf.best_params_['learning_rate'],\n",
        "                                    max_depth = gr_rf.best_params_['max_depth'],\n",
        "                                    )\n",
        "rf_best.fit(X_train,y_train)\n",
        "y_pred = rf_best.predict(X_test)\n",
        "score = rf_best.score(X_test,y_test)\n",
        "print(\"R-squared value: {:.3f} \".format( score))\n",
        "print(\"Custom accuracy: {:.3f} %\".format(custom_accuracy2(y_test,y_pred,10)))"
      ]
    },
    {
      "cell_type": "code",
      "source": [
        "plt.rcParams.update({'font.size': 15})\n",
        "plt.figure(figsize=(10,5))\n",
        "plt.scatter(y_test,y_pred)\n",
        "plt.xlabel('Actual Scores')\n",
        "plt.ylabel('Pred Scores')\n",
        "plt.plot()"
      ],
      "metadata": {
        "colab": {
          "base_uri": "https://localhost:8080/",
          "height": 361
        },
        "id": "M0D19rZ0qd1t",
        "outputId": "9d1c8438-ccfa-4ae1-918f-3a8a3df4c28e"
      },
      "execution_count": null,
      "outputs": [
        {
          "output_type": "execute_result",
          "data": {
            "text/plain": [
              "[]"
            ]
          },
          "metadata": {},
          "execution_count": 156
        },
        {
          "output_type": "display_data",
          "data": {
            "text/plain": [
              "<Figure size 720x360 with 1 Axes>"
            ],
            "image/png": "[encoded data removed]"
          },
          "metadata": {
            "needs_background": "light"
          }
        }
      ]
    },
    {
      "cell_type": "code",
      "source": [
        "RandomForestRegressor().get_params().keys()"
      ],
      "metadata": {
        "colab": {
          "base_uri": "https://localhost:8080/"
        },
        "id": "5jbDxcqFqfh-",
        "outputId": "dff7048a-9e6b-47f6-819e-4113fed9712d"
      },
      "execution_count": null,
      "outputs": [
        {
          "output_type": "execute_result",
          "data": {
            "text/plain": [
              "dict_keys(['bootstrap', 'ccp_alpha', 'criterion', 'max_depth', 'max_features', 'max_leaf_nodes', 'max_samples', 'min_impurity_decrease', 'min_samples_leaf', 'min_samples_split', 'min_weight_fraction_leaf', 'n_estimators', 'n_jobs', 'oob_score', 'random_state', 'verbose', 'warm_start'])"
            ]
          },
          "metadata": {},
          "execution_count": 157
        }
      ]
    },
    {
      "cell_type": "code",
      "source": [
        "from sklearn.model_selection import GridSearchCV\n",
        "param_grid_rf2 = {\n",
        "              \"n_estimators\": [100,300,500],\n",
        "              \"max_depth\": [10,50,100],           \n",
        "             }         \n",
        "gr_rf2 = GridSearchCV(RandomForestRegressor(),param_grid_rf2,cv=5)\n",
        "gr_rf2.fit(X_train,y_train)"
      ],
      "metadata": {
        "colab": {
          "base_uri": "https://localhost:8080/"
        },
        "id": "zmJToTfqqj5C",
        "outputId": "11bbad81-5e13-495e-ab0a-84aa27c92553"
      },
      "execution_count": null,
      "outputs": [
        {
          "output_type": "execute_result",
          "data": {
            "text/plain": [
              "GridSearchCV(cv=5, estimator=RandomForestRegressor(),\n",
              "             param_grid={'max_depth': [10, 50, 100],\n",
              "                         'n_estimators': [100, 300, 500]})"
            ]
          },
          "metadata": {},
          "execution_count": 159
        }
      ]
    },
    {
      "cell_type": "code",
      "source": [
        "gr_rf2.best_params_"
      ],
      "metadata": {
        "colab": {
          "base_uri": "https://localhost:8080/"
        },
        "id": "fkin_MpMqmwa",
        "outputId": "774883b5-0fef-4cc7-fbd3-7a0a027c7387"
      },
      "execution_count": null,
      "outputs": [
        {
          "output_type": "execute_result",
          "data": {
            "text/plain": [
              "{'max_depth': 100, 'n_estimators': 500}"
            ]
          },
          "metadata": {},
          "execution_count": 162
        }
      ]
    },
    {
      "cell_type": "code",
      "source": [
        "\n",
        "rf_best2 = RandomForestRegressor(random_state=300,max_features=None,\n",
        "                                    n_estimators=gr_rf2.best_params_['n_estimators'],\n",
        "                                    max_depth = gr_rf2.best_params_['max_depth'],\n",
        "                                    )\n",
        "rf_best2.fit(X_train,y_train)\n",
        "y_pred = rf_best2.predict(X_test)\n",
        "score = rf_best2.score(X_test,y_test)\n",
        "print(\"R-squared value: {:.3f} \".format( score))\n",
        "print(\"Custom accuracy: {:.3f} %\".format(custom_accuracy2(y_test,y_pred,10)))"
      ],
      "metadata": {
        "colab": {
          "base_uri": "https://localhost:8080/"
        },
        "id": "PffKB3qZqp1Q",
        "outputId": "a6fceb34-f3b3-4cf0-db63-37c461bd4adc"
      },
      "execution_count": null,
      "outputs": [
        {
          "output_type": "stream",
          "name": "stdout",
          "text": [
            "R-squared value: 0.676 \n",
            "Custom accuracy: 65.686 %\n"
          ]
        }
      ]
    },
    {
      "cell_type": "code",
      "source": [
        "plt.rcParams.update({'font.size': 15})\n",
        "plt.figure(figsize=(10,5))\n",
        "plt.scatter(y_test,y_pred)\n",
        "plt.xlabel('Actual Scores')\n",
        "plt.ylabel('Pred Scores')\n",
        "plt.plot()"
      ],
      "metadata": {
        "colab": {
          "base_uri": "https://localhost:8080/",
          "height": 361
        },
        "id": "CaQoN64-qsGV",
        "outputId": "2c734236-fe8a-47fe-aebc-8938c5560732"
      },
      "execution_count": null,
      "outputs": [
        {
          "output_type": "execute_result",
          "data": {
            "text/plain": [
              "[]"
            ]
          },
          "metadata": {},
          "execution_count": 160
        },
        {
          "output_type": "display_data",
          "data": {
            "text/plain": [
              "<Figure size 720x360 with 1 Axes>"
            ],
            "image/png": "[encoded data removed]"
          },
          "metadata": {
            "needs_background": "light"
          }
        }
      ]
    },
    {
      "cell_type": "code",
      "source": [
        "import pandas as pd\n",
        "import numpy as np\n",
        "import matplotlib.pyplot as plt\n",
        "import seaborn as sns\n",
        "from sklearn import preprocessing"
      ],
      "metadata": {
        "id": "zsPkDEU9qupk"
      },
      "execution_count": null,
      "outputs": []
    },
    {
      "cell_type": "code",
      "source": [
        "from google.colab import files\n",
        "uploaded=files.upload()"
      ],
      "metadata": {
        "colab": {
          "resources": {
            "http://localhost:8080/nbextensions/google.colab/files.js": {
              "data": "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",
              "ok": true,
              "headers": [
                [
                  "content-type",
                  "application/javascript"
                ]
              ],
              "status": 200,
              "status_text": ""
            }
          },
          "base_uri": "https://localhost:8080/",
          "height": 74
        },
        "id": "O3IF0jSdzyw7",
        "outputId": "f55c6595-ce28-487a-a3a5-8bc86232b8ea"
      },
      "execution_count": null,
      "outputs": [
        {
          "output_type": "display_data",
          "data": {
            "text/plain": [
              "<IPython.core.display.HTML object>"
            ],
            "text/html": [
              "\n",
              "     <input type=\"file\" id=\"files-891be9f5-f1ac-4088-9c00-0f0a7d3e768f\" name=\"files[]\" multiple disabled\n",
              "        style=\"border:none\" />\n",
              "     <output id=\"result-891be9f5-f1ac-4088-9c00-0f0a7d3e768f\">\n",
              "      Upload widget is only available when the cell has been executed in the\n",
              "      current browser session. Please rerun this cell to enable.\n",
              "      </output>\n",
              "      <script src=\"/nbextensions/google.colab/files.js\"></script> "
            ]
          },
          "metadata": {}
        },
        {
          "output_type": "stream",
          "name": "stdout",
          "text": [
            "Saving IPL Player Stats - 2016 till 2019.csv to IPL Player Stats - 2016 till 2019.csv\n"
          ]
        }
      ]
    },
    {
      "cell_type": "code",
      "source": [
        "data=pd.read_csv('IPL Player Stats - 2016 till 2019.csv')"
      ],
      "metadata": {
        "id": "VNM_amkR1ppK"
      },
      "execution_count": null,
      "outputs": []
    },
    {
      "cell_type": "code",
      "source": [
        "data.head()"
      ],
      "metadata": {
        "colab": {
          "base_uri": "https://localhost:8080/",
          "height": 421
        },
        "id": "wPzGX1xz13sk",
        "outputId": "cefabe3f-7846-4aa8-87ae-c63e8fd015d4"
      },
      "execution_count": null,
      "outputs": [
        {
          "output_type": "execute_result",
          "data": {
            "text/plain": [
              "               Team     Player Tournament  Matches Batting Innings Not Out  \\\n",
              "0  Delhi Daredevils  CH Morris   IPL 2016       12               7       4   \n",
              "1  Delhi Daredevils  CH Morris   IPL 2017        9               9       4   \n",
              "2  Delhi Daredevils  CH Morris   IPL 2018        4               4       3   \n",
              "3  Delhi Daredevils  JP Duminy   IPL 2016       10               8       3   \n",
              "4  Delhi Daredevils  Q de Kock   IPL 2016       13              13       1   \n",
              "\n",
              "  Runds Scored Highest Score Batting Average Balls Faced  ... Runs Conceded  \\\n",
              "0          195           82*           65.00         109  ...           308   \n",
              "1          154           52*           30.80          94  ...           240   \n",
              "2           46           27*           46.00          26  ...           143   \n",
              "3          191           49*           38.20         156  ...            55   \n",
              "4          445           108           37.08         327  ...             -   \n",
              "\n",
              "  Wickets Taken Best Bowling Figures Bowling Average Bowling Economy Rate  \\\n",
              "0            13                 2/30           23.69                 7.00   \n",
              "1            12                 4/26           20.00                 7.74   \n",
              "2             3                 2/41           47.66                10.21   \n",
              "3             2                  1/4           27.50                 7.85   \n",
              "4             -                    -               -                    -   \n",
              "\n",
              "  Bowling Strike Rate 4+ Innings Wickets 5+ Innings Wickets Catches Taken  \\\n",
              "0                20.3                  0                  0             8   \n",
              "1                15.5                  1                  0             5   \n",
              "2                28.0                  0                  0             2   \n",
              "3                21.0                  0                  0             3   \n",
              "4                   -                  -                  -             2   \n",
              "\n",
              "  Stumpings Made  \n",
              "0              0  \n",
              "1              0  \n",
              "2              0  \n",
              "3              0  \n",
              "4              2  \n",
              "\n",
              "[5 rows x 29 columns]"
            ],
            "text/html": [
              "\n",
              "  <div id=\"df-c6af2c06-83b1-4bf2-bbda-6b3c9ac9ac62\">\n",
              "    <div class=\"colab-df-container\">\n",
              "      <div>\n",
              "<style scoped>\n",
              "    .dataframe tbody tr th:only-of-type {\n",
              "        vertical-align: middle;\n",
              "    }\n",
              "\n",
              "    .dataframe tbody tr th {\n",
              "        vertical-align: top;\n",
              "    }\n",
              "\n",
              "    .dataframe thead th {\n",
              "        text-align: right;\n",
              "    }\n",
              "</style>\n",
              "<table border=\"1\" class=\"dataframe\">\n",
              "  <thead>\n",
              "    <tr style=\"text-align: right;\">\n",
              "      <th></th>\n",
              "      <th>Team</th>\n",
              "      <th>Player</th>\n",
              "      <th>Tournament</th>\n",
              "      <th>Matches</th>\n",
              "      <th>Batting Innings</th>\n",
              "      <th>Not Out</th>\n",
              "      <th>Runds Scored</th>\n",
              "      <th>Highest Score</th>\n",
              "      <th>Batting Average</th>\n",
              "      <th>Balls Faced</th>\n",
              "      <th>...</th>\n",
              "      <th>Runs Conceded</th>\n",
              "      <th>Wickets Taken</th>\n",
              "      <th>Best Bowling Figures</th>\n",
              "      <th>Bowling Average</th>\n",
              "      <th>Bowling Economy Rate</th>\n",
              "      <th>Bowling Strike Rate</th>\n",
              "      <th>4+ Innings Wickets</th>\n",
              "      <th>5+ Innings Wickets</th>\n",
              "      <th>Catches Taken</th>\n",
              "      <th>Stumpings Made</th>\n",
              "    </tr>\n",
              "  </thead>\n",
              "  <tbody>\n",
              "    <tr>\n",
              "      <th>0</th>\n",
              "      <td>Delhi Daredevils</td>\n",
              "      <td>CH Morris</td>\n",
              "      <td>IPL 2016</td>\n",
              "      <td>12</td>\n",
              "      <td>7</td>\n",
              "      <td>4</td>\n",
              "      <td>195</td>\n",
              "      <td>82*</td>\n",
              "      <td>65.00</td>\n",
              "      <td>109</td>\n",
              "      <td>...</td>\n",
              "      <td>308</td>\n",
              "      <td>13</td>\n",
              "      <td>2/30</td>\n",
              "      <td>23.69</td>\n",
              "      <td>7.00</td>\n",
              "      <td>20.3</td>\n",
              "      <td>0</td>\n",
              "      <td>0</td>\n",
              "      <td>8</td>\n",
              "      <td>0</td>\n",
              "    </tr>\n",
              "    <tr>\n",
              "      <th>1</th>\n",
              "      <td>Delhi Daredevils</td>\n",
              "      <td>CH Morris</td>\n",
              "      <td>IPL 2017</td>\n",
              "      <td>9</td>\n",
              "      <td>9</td>\n",
              "      <td>4</td>\n",
              "      <td>154</td>\n",
              "      <td>52*</td>\n",
              "      <td>30.80</td>\n",
              "      <td>94</td>\n",
              "      <td>...</td>\n",
              "      <td>240</td>\n",
              "      <td>12</td>\n",
              "      <td>4/26</td>\n",
              "      <td>20.00</td>\n",
              "      <td>7.74</td>\n",
              "      <td>15.5</td>\n",
              "      <td>1</td>\n",
              "      <td>0</td>\n",
              "      <td>5</td>\n",
              "      <td>0</td>\n",
              "    </tr>\n",
              "    <tr>\n",
              "      <th>2</th>\n",
              "      <td>Delhi Daredevils</td>\n",
              "      <td>CH Morris</td>\n",
              "      <td>IPL 2018</td>\n",
              "      <td>4</td>\n",
              "      <td>4</td>\n",
              "      <td>3</td>\n",
              "      <td>46</td>\n",
              "      <td>27*</td>\n",
              "      <td>46.00</td>\n",
              "      <td>26</td>\n",
              "      <td>...</td>\n",
              "      <td>143</td>\n",
              "      <td>3</td>\n",
              "      <td>2/41</td>\n",
              "      <td>47.66</td>\n",
              "      <td>10.21</td>\n",
              "      <td>28.0</td>\n",
              "      <td>0</td>\n",
              "      <td>0</td>\n",
              "      <td>2</td>\n",
              "      <td>0</td>\n",
              "    </tr>\n",
              "    <tr>\n",
              "      <th>3</th>\n",
              "      <td>Delhi Daredevils</td>\n",
              "      <td>JP Duminy</td>\n",
              "      <td>IPL 2016</td>\n",
              "      <td>10</td>\n",
              "      <td>8</td>\n",
              "      <td>3</td>\n",
              "      <td>191</td>\n",
              "      <td>49*</td>\n",
              "      <td>38.20</td>\n",
              "      <td>156</td>\n",
              "      <td>...</td>\n",
              "      <td>55</td>\n",
              "      <td>2</td>\n",
              "      <td>1/4</td>\n",
              "      <td>27.50</td>\n",
              "      <td>7.85</td>\n",
              "      <td>21.0</td>\n",
              "      <td>0</td>\n",
              "      <td>0</td>\n",
              "      <td>3</td>\n",
              "      <td>0</td>\n",
              "    </tr>\n",
              "    <tr>\n",
              "      <th>4</th>\n",
              "      <td>Delhi Daredevils</td>\n",
              "      <td>Q de Kock</td>\n",
              "      <td>IPL 2016</td>\n",
              "      <td>13</td>\n",
              "      <td>13</td>\n",
              "      <td>1</td>\n",
              "      <td>445</td>\n",
              "      <td>108</td>\n",
              "      <td>37.08</td>\n",
              "      <td>327</td>\n",
              "      <td>...</td>\n",
              "      <td>-</td>\n",
              "      <td>-</td>\n",
              "      <td>-</td>\n",
              "      <td>-</td>\n",
              "      <td>-</td>\n",
              "      <td>-</td>\n",
              "      <td>-</td>\n",
              "      <td>-</td>\n",
              "      <td>2</td>\n",
              "      <td>2</td>\n",
              "    </tr>\n",
              "  </tbody>\n",
              "</table>\n",
              "<p>5 rows × 29 columns</p>\n",
              "</div>\n",
              "      <button class=\"colab-df-convert\" onclick=\"convertToInteractive('df-c6af2c06-83b1-4bf2-bbda-6b3c9ac9ac62')\"\n",
              "              title=\"Convert this dataframe to an interactive table.\"\n",
              "              style=\"display:none;\">\n",
              "        \n",
              "  <svg xmlns=\"http://www.w3.org/2000/svg\" height=\"24px\"viewBox=\"0 0 24 24\"\n",
              "       width=\"24px\">\n",
              "    <path d=\"M0 0h24v24H0V0z\" fill=\"none\"/>\n",
              "    <path d=\"M18.56 5.44l.94 2.06.94-2.06 2.06-.94-2.06-.94-.94-2.06-.94 2.06-2.06.94zm-11 1L8.5 8.5l.94-2.06 2.06-.94-2.06-.94L8.5 2.5l-.94 2.06-2.06.94zm10 10l.94 2.06.94-2.06 2.06-.94-2.06-.94-.94-2.06-.94 2.06-2.06.94z\"/><path d=\"M17.41 7.96l-1.37-1.37c-.4-.4-.92-.59-1.43-.59-.52 0-1.04.2-1.43.59L10.3 9.45l-7.72 7.72c-.78.78-.78 2.05 0 2.83L4 21.41c.39.39.9.59 1.41.59.51 0 1.02-.2 1.41-.59l7.78-7.78 2.81-2.81c.8-.78.8-2.07 0-2.86zM5.41 20L4 18.59l7.72-7.72 1.47 1.35L5.41 20z\"/>\n",
              "  </svg>\n",
              "      </button>\n",
              "      \n",
              "  <style>\n",
              "    .colab-df-container {\n",
              "      display:flex;\n",
              "      flex-wrap:wrap;\n",
              "      gap: 12px;\n",
              "    }\n",
              "\n",
              "    .colab-df-convert {\n",
              "      background-color: #E8F0FE;\n",
              "      border: none;\n",
              "      border-radius: 50%;\n",
              "      cursor: pointer;\n",
              "      display: none;\n",
              "      fill: #1967D2;\n",
              "      height: 32px;\n",
              "      padding: 0 0 0 0;\n",
              "      width: 32px;\n",
              "    }\n",
              "\n",
              "    .colab-df-convert:hover {\n",
              "      background-color: #E2EBFA;\n",
              "      box-shadow: 0px 1px 2px rgba(60, 64, 67, 0.3), 0px 1px 3px 1px rgba(60, 64, 67, 0.15);\n",
              "      fill: #174EA6;\n",
              "    }\n",
              "\n",
              "    [theme=dark] .colab-df-convert {\n",
              "      background-color: #3B4455;\n",
              "      fill: #D2E3FC;\n",
              "    }\n",
              "\n",
              "    [theme=dark] .colab-df-convert:hover {\n",
              "      background-color: #434B5C;\n",
              "      box-shadow: 0px 1px 3px 1px rgba(0, 0, 0, 0.15);\n",
              "      filter: drop-shadow(0px 1px 2px rgba(0, 0, 0, 0.3));\n",
              "      fill: #FFFFFF;\n",
              "    }\n",
              "  </style>\n",
              "\n",
              "      <script>\n",
              "        const buttonEl =\n",
              "          document.querySelector('#df-c6af2c06-83b1-4bf2-bbda-6b3c9ac9ac62 button.colab-df-convert');\n",
              "        buttonEl.style.display =\n",
              "          google.colab.kernel.accessAllowed ? 'block' : 'none';\n",
              "\n",
              "        async function convertToInteractive(key) {\n",
              "          const element = document.querySelector('#df-c6af2c06-83b1-4bf2-bbda-6b3c9ac9ac62');\n",
              "          const dataTable =\n",
              "            await google.colab.kernel.invokeFunction('convertToInteractive',\n",
              "                                                     [key], {});\n",
              "          if (!dataTable) return;\n",
              "\n",
              "          const docLinkHtml = 'Like what you see? Visit the ' +\n",
              "            '<a target=\"_blank\" href=https://colab.research.google.com/notebooks/data_table.ipynb>data table notebook</a>'\n",
              "            + ' to learn more about interactive tables.';\n",
              "          element.innerHTML = '';\n",
              "          dataTable['output_type'] = 'display_data';\n",
              "          await google.colab.output.renderOutput(dataTable, element);\n",
              "          const docLink = document.createElement('div');\n",
              "          docLink.innerHTML = docLinkHtml;\n",
              "          element.appendChild(docLink);\n",
              "        }\n",
              "      </script>\n",
              "    </div>\n",
              "  </div>\n",
              "  "
            ]
          },
          "metadata": {},
          "execution_count": 168
        }
      ]
    },
    {
      "cell_type": "code",
      "source": [
        "data.info()"
      ],
      "metadata": {
        "colab": {
          "base_uri": "https://localhost:8080/"
        },
        "id": "jOle4oQf19dj",
        "outputId": "34da259a-47bf-4d9a-9180-fd4187e2c714"
      },
      "execution_count": null,
      "outputs": [
        {
          "output_type": "stream",
          "name": "stdout",
          "text": [
            "<class 'pandas.core.frame.DataFrame'>\n",
            "RangeIndex: 631 entries, 0 to 630\n",
            "Data columns (total 29 columns):\n",
            " #   Column                Non-Null Count  Dtype \n",
            "---  ------                --------------  ----- \n",
            " 0   Team                  631 non-null    object\n",
            " 1   Player                631 non-null    object\n",
            " 2   Tournament            631 non-null    object\n",
            " 3   Matches               631 non-null    int64 \n",
            " 4   Batting Innings       631 non-null    object\n",
            " 5   Not Out               631 non-null    object\n",
            " 6   Runds Scored          631 non-null    object\n",
            " 7   Highest Score         631 non-null    object\n",
            " 8   Batting Average       631 non-null    object\n",
            " 9   Balls Faced           631 non-null    object\n",
            " 10  Batting Strike Rate   631 non-null    object\n",
            " 11  100                   631 non-null    object\n",
            " 12  50                    631 non-null    object\n",
            " 13  0                     631 non-null    object\n",
            " 14  4s                    631 non-null    object\n",
            " 15  6s                    631 non-null    object\n",
            " 16  Bowling Innings       631 non-null    object\n",
            " 17  Overs Bowled          631 non-null    object\n",
            " 18  Maidens Bowled        631 non-null    object\n",
            " 19  Runs Conceded         631 non-null    object\n",
            " 20  Wickets Taken         631 non-null    object\n",
            " 21  Best Bowling Figures  631 non-null    object\n",
            " 22  Bowling Average       631 non-null    object\n",
            " 23  Bowling Economy Rate  631 non-null    object\n",
            " 24  Bowling Strike Rate   631 non-null    object\n",
            " 25  4+ Innings Wickets    631 non-null    object\n",
            " 26  5+ Innings Wickets    631 non-null    object\n",
            " 27  Catches Taken         631 non-null    int64 \n",
            " 28  Stumpings Made        631 non-null    int64 \n",
            "dtypes: int64(3), object(26)\n",
            "memory usage: 143.1+ KB\n"
          ]
        }
      ]
    },
    {
      "cell_type": "code",
      "source": [
        "from google.colab import files\n",
        "uploaded=files.upload()"
      ],
      "metadata": {
        "colab": {
          "resources": {
            "http://localhost:8080/nbextensions/google.colab/files.js": {
              "data": "Ly8gQ29weXJpZ2h0IDIwMTcgR29vZ2xlIExMQwovLwovLyBMaWNlbnNlZCB1bmRlciB0aGUgQXBhY2hlIExpY2Vuc2UsIFZlcnNpb24gMi4wICh0aGUgIkxpY2Vuc2UiKTsKLy8geW91IG1heSBub3QgdXNlIHRoaXMgZmlsZSBleGNlcHQgaW4gY29tcGxpYW5jZSB3aXRoIHRoZSBMaWNlbnNlLgovLyBZb3UgbWF5IG9idGFpbiBhIGNvcHkgb2YgdGhlIExpY2Vuc2UgYXQKLy8KLy8gICAgICBodHRwOi8vd3d3LmFwYWNoZS5vcmcvbGljZW5zZXMvTElDRU5TRS0yLjAKLy8KLy8gVW5sZXNzIHJlcXVpcmVkIGJ5IGFwcGxpY2FibGUgbGF3IG9yIGFncmVlZCB0byBpbiB3cml0aW5nLCBzb2Z0d2FyZQovLyBkaXN0cmlidXRlZCB1bmRlciB0aGUgTGljZW5zZSBpcyBkaXN0cmlidXRlZCBvbiBhbiAiQVMgSVMiIEJBU0lTLAovLyBXSVRIT1VUIFdBUlJBTlRJRVMgT1IgQ09ORElUSU9OUyBPRiBBTlkgS0lORCwgZWl0aGVyIGV4cHJlc3Mgb3IgaW1wbGllZC4KLy8gU2VlIHRoZSBMaWNlbnNlIGZvciB0aGUgc3BlY2lmaWMgbGFuZ3VhZ2UgZ292ZXJuaW5nIHBlcm1pc3Npb25zIGFuZAovLyBsaW1pdGF0aW9ucyB1bmRlciB0aGUgTGljZW5zZS4KCi8qKgogKiBAZmlsZW92ZXJ2aWV3IEhlbHBlcnMgZm9yIGdvb2dsZS5jb2xhYiBQeXRob24gbW9kdWxlLgogKi8KKGZ1bmN0aW9uKHNjb3BlKSB7CmZ1bmN0aW9uIHNwYW4odGV4dCwgc3R5bGVBdHRyaWJ1dGVzID0ge30pIHsKICBjb25zdCBlbGVtZW50ID0gZG9jdW1lbnQuY3JlYXRlRWxlbWVudCgnc3BhbicpOwogIGVsZW1lbnQudGV4dENvbnRlbnQgPSB0ZXh0OwogIGZvciAoY29uc3Qga2V5IG9mIE9iamVjdC5rZXlzKHN0eWxlQXR0cmlidXRlcykpIHsKICAgIGVsZW1lbnQuc3R5bGVba2V5XSA9IHN0eWxlQXR0cmlidXRlc1trZXldOwogIH0KICByZXR1cm4gZWxlbWVudDsKfQoKLy8gTWF4IG51bWJlciBvZiBieXRlcyB3aGljaCB3aWxsIGJlIHVwbG9hZGVkIGF0IGEgdGltZS4KY29uc3QgTUFYX1BBWUxPQURfU0laRSA9IDEwMCAqIDEwMjQ7CgpmdW5jdGlvbiBfdXBsb2FkRmlsZXMoaW5wdXRJZCwgb3V0cHV0SWQpIHsKICBjb25zdCBzdGVwcyA9IHVwbG9hZEZpbGVzU3RlcChpbnB1dElkLCBvdXRwdXRJZCk7CiAgY29uc3Qgb3V0cHV0RWxlbWVudCA9IGRvY3VtZW50LmdldEVsZW1lbnRCeUlkKG91dHB1dElkKTsKICAvLyBDYWNoZSBzdGVwcyBvbiB0aGUgb3V0cHV0RWxlbWVudCB0byBtYWtlIGl0IGF2YWlsYWJsZSBmb3IgdGhlIG5leHQgY2FsbAogIC8vIHRvIHVwbG9hZEZpbGVzQ29udGludWUgZnJvbSBQeXRob24uCiAgb3V0cHV0RWxlbWVudC5zdGVwcyA9IHN0ZXBzOwoKICByZXR1cm4gX3VwbG9hZEZpbGVzQ29udGludWUob3V0cHV0SWQpOwp9CgovLyBUaGlzIGlzIHJvdWdobHkgYW4gYXN5bmMgZ2VuZXJhdG9yIChub3Qgc3VwcG9ydGVkIGluIHRoZSBicm93c2VyIHlldCksCi8vIHdoZXJlIHRoZXJlIGFyZSBtdWx0aXBsZSBhc3luY2hyb25vdXMgc3RlcHMgYW5kIHRoZSBQeXRob24gc2lkZSBpcyBnb2luZwovLyB0byBwb2xsIGZvciBjb21wbGV0aW9uIG9mIGVhY2ggc3RlcC4KLy8gVGhpcyB1c2VzIGEgUHJvbWlzZSB0byBibG9jayB0aGUgcHl0aG9uIHNpZGUgb24gY29tcGxldGlvbiBvZiBlYWNoIHN0ZXAsCi8vIHRoZW4gcGFzc2VzIHRoZSByZXN1bHQgb2YgdGhlIHByZXZpb3VzIHN0ZXAgYXMgdGhlIGlucHV0IHRvIHRoZSBuZXh0IHN0ZXAuCmZ1bmN0aW9uIF91cGxvYWRGaWxlc0NvbnRpbnVlKG91dHB1dElkKSB7CiAgY29uc3Qgb3V0cHV0RWxlbWVudCA9IGRvY3VtZW50LmdldEVsZW1lbnRCeUlkKG91dHB1dElkKTsKICBjb25zdCBzdGVwcyA9IG91dHB1dEVsZW1lbnQuc3RlcHM7CgogIGNvbnN0IG5leHQgPSBzdGVwcy5uZXh0KG91dHB1dEVsZW1lbnQubGFzdFByb21pc2VWYWx1ZSk7CiAgcmV0dXJuIFByb21pc2UucmVzb2x2ZShuZXh0LnZhbHVlLnByb21pc2UpLnRoZW4oKHZhbHVlKSA9PiB7CiAgICAvLyBDYWNoZSB0aGUgbGFzdCBwcm9taXNlIHZhbHVlIHRvIG1ha2UgaXQgYXZhaWxhYmxlIHRvIHRoZSBuZXh0CiAgICAvLyBzdGVwIG9mIHRoZSBnZW5lcmF0b3IuCiAgICBvdXRwdXRFbGVtZW50Lmxhc3RQcm9taXNlVmFsdWUgPSB2YWx1ZTsKICAgIHJldHVybiBuZXh0LnZhbHVlLnJlc3BvbnNlOwogIH0pOwp9CgovKioKICogR2VuZXJhdG9yIGZ1bmN0aW9uIHdoaWNoIGlzIGNhbGxlZCBiZXR3ZWVuIGVhY2ggYXN5bmMgc3RlcCBvZiB0aGUgdXBsb2FkCiAqIHByb2Nlc3MuCiAqIEBwYXJhbSB7c3RyaW5nfSBpbnB1dElkIEVsZW1lbnQgSUQgb2YgdGhlIGlucHV0IGZpbGUgcGlja2VyIGVsZW1lbnQuCiAqIEBwYXJhbSB7c3RyaW5nfSBvdXRwdXRJZCBFbGVtZW50IElEIG9mIHRoZSBvdXRwdXQgZGlzcGxheS4KICogQHJldHVybiB7IUl0ZXJhYmxlPCFPYmplY3Q+fSBJdGVyYWJsZSBvZiBuZXh0IHN0ZXBzLgogKi8KZnVuY3Rpb24qIHVwbG9hZEZpbGVzU3RlcChpbnB1dElkLCBvdXRwdXRJZCkgewogIGNvbnN0IGlucHV0RWxlbWVudCA9IGRvY3VtZW50LmdldEVsZW1lbnRCeUlkKGlucHV0SWQpOwogIGlucHV0RWxlbWVudC5kaXNhYmxlZCA9IGZhbHNlOwoKICBjb25zdCBvdXRwdXRFbGVtZW50ID0gZG9jdW1lbnQuZ2V0RWxlbWVudEJ5SWQob3V0cHV0SWQpOwogIG91dHB1dEVsZW1lbnQuaW5uZXJIVE1MID0gJyc7CgogIGNvbnN0IHBpY2tlZFByb21pc2UgPSBuZXcgUHJvbWlzZSgocmVzb2x2ZSkgPT4gewogICAgaW5wdXRFbGVtZW50LmFkZEV2ZW50TGlzdGVuZXIoJ2NoYW5nZScsIChlKSA9PiB7CiAgICAgIHJlc29sdmUoZS50YXJnZXQuZmlsZXMpOwogICAgfSk7CiAgfSk7CgogIGNvbnN0IGNhbmNlbCA9IGRvY3VtZW50LmNyZWF0ZUVsZW1lbnQoJ2J1dHRvbicpOwogIGlucHV0RWxlbWVudC5wYXJlbnRFbGVtZW50LmFwcGVuZENoaWxkKGNhbmNlbCk7CiAgY2FuY2VsLnRleHRDb250ZW50ID0gJ0NhbmNlbCB1cGxvYWQnOwogIGNvbnN0IGNhbmNlbFByb21pc2UgPSBuZXcgUHJvbWlzZSgocmVzb2x2ZSkgPT4gewogICAgY2FuY2VsLm9uY2xpY2sgPSAoKSA9PiB7CiAgICAgIHJlc29sdmUobnVsbCk7CiAgICB9OwogIH0pOwoKICAvLyBXYWl0IGZvciB0aGUgdXNlciB0byBwaWNrIHRoZSBmaWxlcy4KICBjb25zdCBmaWxlcyA9IHlpZWxkIHsKICAgIHByb21pc2U6IFByb21pc2UucmFjZShbcGlja2VkUHJvbWlzZSwgY2FuY2VsUHJvbWlzZV0pLAogICAgcmVzcG9uc2U6IHsKICAgICAgYWN0aW9uOiAnc3RhcnRpbmcnLAogICAgfQogIH07CgogIGNhbmNlbC5yZW1vdmUoKTsKCiAgLy8gRGlzYWJsZSB0aGUgaW5wdXQgZWxlbWVudCBzaW5jZSBmdXJ0aGVyIHBpY2tzIGFyZSBub3QgYWxsb3dlZC4KICBpbnB1dEVsZW1lbnQuZGlzYWJsZWQgPSB0cnVlOwoKICBpZiAoIWZpbGVzKSB7CiAgICByZXR1cm4gewogICAgICByZXNwb25zZTogewogICAgICAgIGFjdGlvbjogJ2NvbXBsZXRlJywKICAgICAgfQogICAgfTsKICB9CgogIGZvciAoY29uc3QgZmlsZSBvZiBmaWxlcykgewogICAgY29uc3QgbGkgPSBkb2N1bWVudC5jcmVhdGVFbGVtZW50KCdsaScpOwogICAgbGkuYXBwZW5kKHNwYW4oZmlsZS5uYW1lLCB7Zm9udFdlaWdodDogJ2JvbGQnfSkpOwogICAgbGkuYXBwZW5kKHNwYW4oCiAgICAgICAgYCgke2ZpbGUudHlwZSB8fCAnbi9hJ30pIC0gJHtmaWxlLnNpemV9IGJ5dGVzLCBgICsKICAgICAgICBgbGFzdCBtb2RpZmllZDogJHsKICAgICAgICAgICAgZmlsZS5sYXN0TW9kaWZpZWREYXRlID8gZmlsZS5sYXN0TW9kaWZpZWREYXRlLnRvTG9jYWxlRGF0ZVN0cmluZygpIDoKICAgICAgICAgICAgICAgICAgICAgICAgICAgICAgICAgICAgJ24vYSd9IC0gYCkpOwogICAgY29uc3QgcGVyY2VudCA9IHNwYW4oJzAlIGRvbmUnKTsKICAgIGxpLmFwcGVuZENoaWxkKHBlcmNlbnQpOwoKICAgIG91dHB1dEVsZW1lbnQuYXBwZW5kQ2hpbGQobGkpOwoKICAgIGNvbnN0IGZpbGVEYXRhUHJvbWlzZSA9IG5ldyBQcm9taXNlKChyZXNvbHZlKSA9PiB7CiAgICAgIGNvbnN0IHJlYWRlciA9IG5ldyBGaWxlUmVhZGVyKCk7CiAgICAgIHJlYWRlci5vbmxvYWQgPSAoZSkgPT4gewogICAgICAgIHJlc29sdmUoZS50YXJnZXQucmVzdWx0KTsKICAgICAgfTsKICAgICAgcmVhZGVyLnJlYWRBc0FycmF5QnVmZmVyKGZpbGUpOwogICAgfSk7CiAgICAvLyBXYWl0IGZvciB0aGUgZGF0YSB0byBiZSByZWFkeS4KICAgIGxldCBmaWxlRGF0YSA9IHlpZWxkIHsKICAgICAgcHJvbWlzZTogZmlsZURhdGFQcm9taXNlLAogICAgICByZXNwb25zZTogewogICAgICAgIGFjdGlvbjogJ2NvbnRpbnVlJywKICAgICAgfQogICAgfTsKCiAgICAvLyBVc2UgYSBjaHVua2VkIHNlbmRpbmcgdG8gYXZvaWQgbWVzc2FnZSBzaXplIGxpbWl0cy4gU2VlIGIvNjIxMTU2NjAuCiAgICBsZXQgcG9zaXRpb24gPSAwOwogICAgZG8gewogICAgICBjb25zdCBsZW5ndGggPSBNYXRoLm1pbihmaWxlRGF0YS5ieXRlTGVuZ3RoIC0gcG9zaXRpb24sIE1BWF9QQVlMT0FEX1NJWkUpOwogICAgICBjb25zdCBjaHVuayA9IG5ldyBVaW50OEFycmF5KGZpbGVEYXRhLCBwb3NpdGlvbiwgbGVuZ3RoKTsKICAgICAgcG9zaXRpb24gKz0gbGVuZ3RoOwoKICAgICAgY29uc3QgYmFzZTY0ID0gYnRvYShTdHJpbmcuZnJvbUNoYXJDb2RlLmFwcGx5KG51bGwsIGNodW5rKSk7CiAgICAgIHlpZWxkIHsKICAgICAgICByZXNwb25zZTogewogICAgICAgICAgYWN0aW9uOiAnYXBwZW5kJywKICAgICAgICAgIGZpbGU6IGZpbGUubmFtZSwKICAgICAgICAgIGRhdGE6IGJhc2U2NCwKICAgICAgICB9LAogICAgICB9OwoKICAgICAgbGV0IHBlcmNlbnREb25lID0gZmlsZURhdGEuYnl0ZUxlbmd0aCA9PT0gMCA/CiAgICAgICAgICAxMDAgOgogICAgICAgICAgTWF0aC5yb3VuZCgocG9zaXRpb24gLyBmaWxlRGF0YS5ieXRlTGVuZ3RoKSAqIDEwMCk7CiAgICAgIHBlcmNlbnQudGV4dENvbnRlbnQgPSBgJHtwZXJjZW50RG9uZX0lIGRvbmVgOwoKICAgIH0gd2hpbGUgKHBvc2l0aW9uIDwgZmlsZURhdGEuYnl0ZUxlbmd0aCk7CiAgfQoKICAvLyBBbGwgZG9uZS4KICB5aWVsZCB7CiAgICByZXNwb25zZTogewogICAgICBhY3Rpb246ICdjb21wbGV0ZScsCiAgICB9CiAgfTsKfQoKc2NvcGUuZ29vZ2xlID0gc2NvcGUuZ29vZ2xlIHx8IHt9OwpzY29wZS5nb29nbGUuY29sYWIgPSBzY29wZS5nb29nbGUuY29sYWIgfHwge307CnNjb3BlLmdvb2dsZS5jb2xhYi5fZmlsZXMgPSB7CiAgX3VwbG9hZEZpbGVzLAogIF91cGxvYWRGaWxlc0NvbnRpbnVlLAp9Owp9KShzZWxmKTsK",
              "ok": true,
              "headers": [
                [
                  "content-type",
                  "application/javascript"
                ]
              ],
              "status": 200,
              "status_text": ""
            }
          },
          "base_uri": "https://localhost:8080/",
          "height": 74
        },
        "id": "CB1cXULM8uWk",
        "outputId": "7f3ea311-07d0-4146-d5f9-7f00b7532a22"
      },
      "execution_count": null,
      "outputs": [
        {
          "output_type": "display_data",
          "data": {
            "text/plain": [
              "<IPython.core.display.HTML object>"
            ],
            "text/html": [
              "\n",
              "     <input type=\"file\" id=\"files-28d02f16-5c4e-4121-89e2-3439cb5d83e6\" name=\"files[]\" multiple disabled\n",
              "        style=\"border:none\" />\n",
              "     <output id=\"result-28d02f16-5c4e-4121-89e2-3439cb5d83e6\">\n",
              "      Upload widget is only available when the cell has been executed in the\n",
              "      current browser session. Please rerun this cell to enable.\n",
              "      </output>\n",
              "      <script src=\"/nbextensions/google.colab/files.js\"></script> "
            ]
          },
          "metadata": {}
        },
        {
          "output_type": "stream",
          "name": "stdout",
          "text": [
            "Saving ipl_dataset.csv to ipl_dataset.csv\n"
          ]
        }
      ]
    },
    {
      "cell_type": "code",
      "source": [
        "ipl= pd.read_csv('ipl_dataset.csv')"
      ],
      "metadata": {
        "id": "Bl4n_SoS9AZC"
      },
      "execution_count": null,
      "outputs": []
    },
    {
      "cell_type": "code",
      "source": [
        "data['Player'].unique().shape"
      ],
      "metadata": {
        "colab": {
          "base_uri": "https://localhost:8080/"
        },
        "id": "x2JyK9TN9IOU",
        "outputId": "c207637a-5cd4-4fd6-939f-b5b229b067a3"
      },
      "execution_count": null,
      "outputs": [
        {
          "output_type": "execute_result",
          "data": {
            "text/plain": [
              "(268,)"
            ]
          },
          "metadata": {},
          "execution_count": 173
        }
      ]
    },
    {
      "cell_type": "code",
      "source": [
        "ipl['striker'].unique().shape"
      ],
      "metadata": {
        "colab": {
          "base_uri": "https://localhost:8080/"
        },
        "id": "6WSv5oRX9MTA",
        "outputId": "4adcc171-a89c-4835-c84e-e7c04251daea"
      },
      "execution_count": null,
      "outputs": [
        {
          "output_type": "execute_result",
          "data": {
            "text/plain": [
              "(235,)"
            ]
          },
          "metadata": {},
          "execution_count": 174
        }
      ]
    },
    {
      "cell_type": "code",
      "source": [
        "new_ipl = pd.merge(ipl,data,left_on='striker',right_on='Player')"
      ],
      "metadata": {
        "id": "1DtdDUWF9M_5"
      },
      "execution_count": null,
      "outputs": []
    },
    {
      "cell_type": "code",
      "source": [
        "new_ipl.drop(['wicket_type', 'player_dismissed','Unnamed: 0','match_id'],axis=1,inplace=True)"
      ],
      "metadata": {
        "id": "J9FNDoCZ9Qye"
      },
      "execution_count": null,
      "outputs": []
    },
    {
      "cell_type": "code",
      "source": [
        "new_ipl.head()"
      ],
      "metadata": {
        "colab": {
          "base_uri": "https://localhost:8080/",
          "height": 508
        },
        "id": "cYa_tsKm9UI2",
        "outputId": "cfe4fc12-d97b-46d0-a285-fb8740c57519"
      },
      "execution_count": null,
      "outputs": [
        {
          "output_type": "execute_result",
          "data": {
            "text/plain": [
              "                   venue  innings  ball           batting_team  \\\n",
              "0  M Chinnaswamy Stadium        1   0.2  Kolkata Knight Riders   \n",
              "1  M Chinnaswamy Stadium        1   0.2  Kolkata Knight Riders   \n",
              "2  M Chinnaswamy Stadium        1   0.2  Kolkata Knight Riders   \n",
              "3  M Chinnaswamy Stadium        1   0.3  Kolkata Knight Riders   \n",
              "4  M Chinnaswamy Stadium        1   0.3  Kolkata Knight Riders   \n",
              "\n",
              "                  bowling_team      striker non_striker   bowler  \\\n",
              "0  Royal Challengers Bangalore  BB McCullum  SC Ganguly  P Kumar   \n",
              "1  Royal Challengers Bangalore  BB McCullum  SC Ganguly  P Kumar   \n",
              "2  Royal Challengers Bangalore  BB McCullum  SC Ganguly  P Kumar   \n",
              "3  Royal Challengers Bangalore  BB McCullum  SC Ganguly  P Kumar   \n",
              "4  Royal Challengers Bangalore  BB McCullum  SC Ganguly  P Kumar   \n",
              "\n",
              "   runs_off_bat  extras  ...  Runs Conceded  Wickets Taken  \\\n",
              "0           0.0     0.0  ...              -              -   \n",
              "1           0.0     0.0  ...              -              -   \n",
              "2           0.0     0.0  ...              -              -   \n",
              "3           0.0     1.0  ...              -              -   \n",
              "4           0.0     1.0  ...              -              -   \n",
              "\n",
              "   Best Bowling Figures  Bowling Average Bowling Economy Rate  \\\n",
              "0                     -                -                    -   \n",
              "1                     -                -                    -   \n",
              "2                     -                -                    -   \n",
              "3                     -                -                    -   \n",
              "4                     -                -                    -   \n",
              "\n",
              "  Bowling Strike Rate 4+ Innings Wickets  5+ Innings Wickets Catches Taken  \\\n",
              "0                   -                  -                   -             1   \n",
              "1                   -                  -                   -             0   \n",
              "2                   -                  -                   -             8   \n",
              "3                   -                  -                   -             1   \n",
              "4                   -                  -                   -             0   \n",
              "\n",
              "  Stumpings Made  \n",
              "0              0  \n",
              "1              0  \n",
              "2              0  \n",
              "3              0  \n",
              "4              0  \n",
              "\n",
              "[5 rows x 43 columns]"
            ],
            "text/html": [
              "\n",
              "  <div id=\"df-f79c92ea-3d85-4471-b1dd-0f4aec31dfe9\">\n",
              "    <div class=\"colab-df-container\">\n",
              "      <div>\n",
              "<style scoped>\n",
              "    .dataframe tbody tr th:only-of-type {\n",
              "        vertical-align: middle;\n",
              "    }\n",
              "\n",
              "    .dataframe tbody tr th {\n",
              "        vertical-align: top;\n",
              "    }\n",
              "\n",
              "    .dataframe thead th {\n",
              "        text-align: right;\n",
              "    }\n",
              "</style>\n",
              "<table border=\"1\" class=\"dataframe\">\n",
              "  <thead>\n",
              "    <tr style=\"text-align: right;\">\n",
              "      <th></th>\n",
              "      <th>venue</th>\n",
              "      <th>innings</th>\n",
              "      <th>ball</th>\n",
              "      <th>batting_team</th>\n",
              "      <th>bowling_team</th>\n",
              "      <th>striker</th>\n",
              "      <th>non_striker</th>\n",
              "      <th>bowler</th>\n",
              "      <th>runs_off_bat</th>\n",
              "      <th>extras</th>\n",
              "      <th>...</th>\n",
              "      <th>Runs Conceded</th>\n",
              "      <th>Wickets Taken</th>\n",
              "      <th>Best Bowling Figures</th>\n",
              "      <th>Bowling Average</th>\n",
              "      <th>Bowling Economy Rate</th>\n",
              "      <th>Bowling Strike Rate</th>\n",
              "      <th>4+ Innings Wickets</th>\n",
              "      <th>5+ Innings Wickets</th>\n",
              "      <th>Catches Taken</th>\n",
              "      <th>Stumpings Made</th>\n",
              "    </tr>\n",
              "  </thead>\n",
              "  <tbody>\n",
              "    <tr>\n",
              "      <th>0</th>\n",
              "      <td>M Chinnaswamy Stadium</td>\n",
              "      <td>1</td>\n",
              "      <td>0.2</td>\n",
              "      <td>Kolkata Knight Riders</td>\n",
              "      <td>Royal Challengers Bangalore</td>\n",
              "      <td>BB McCullum</td>\n",
              "      <td>SC Ganguly</td>\n",
              "      <td>P Kumar</td>\n",
              "      <td>0.0</td>\n",
              "      <td>0.0</td>\n",
              "      <td>...</td>\n",
              "      <td>-</td>\n",
              "      <td>-</td>\n",
              "      <td>-</td>\n",
              "      <td>-</td>\n",
              "      <td>-</td>\n",
              "      <td>-</td>\n",
              "      <td>-</td>\n",
              "      <td>-</td>\n",
              "      <td>1</td>\n",
              "      <td>0</td>\n",
              "    </tr>\n",
              "    <tr>\n",
              "      <th>1</th>\n",
              "      <td>M Chinnaswamy Stadium</td>\n",
              "      <td>1</td>\n",
              "      <td>0.2</td>\n",
              "      <td>Kolkata Knight Riders</td>\n",
              "      <td>Royal Challengers Bangalore</td>\n",
              "      <td>BB McCullum</td>\n",
              "      <td>SC Ganguly</td>\n",
              "      <td>P Kumar</td>\n",
              "      <td>0.0</td>\n",
              "      <td>0.0</td>\n",
              "      <td>...</td>\n",
              "      <td>-</td>\n",
              "      <td>-</td>\n",
              "      <td>-</td>\n",
              "      <td>-</td>\n",
              "      <td>-</td>\n",
              "      <td>-</td>\n",
              "      <td>-</td>\n",
              "      <td>-</td>\n",
              "      <td>0</td>\n",
              "      <td>0</td>\n",
              "    </tr>\n",
              "    <tr>\n",
              "      <th>2</th>\n",
              "      <td>M Chinnaswamy Stadium</td>\n",
              "      <td>1</td>\n",
              "      <td>0.2</td>\n",
              "      <td>Kolkata Knight Riders</td>\n",
              "      <td>Royal Challengers Bangalore</td>\n",
              "      <td>BB McCullum</td>\n",
              "      <td>SC Ganguly</td>\n",
              "      <td>P Kumar</td>\n",
              "      <td>0.0</td>\n",
              "      <td>0.0</td>\n",
              "      <td>...</td>\n",
              "      <td>-</td>\n",
              "      <td>-</td>\n",
              "      <td>-</td>\n",
              "      <td>-</td>\n",
              "      <td>-</td>\n",
              "      <td>-</td>\n",
              "      <td>-</td>\n",
              "      <td>-</td>\n",
              "      <td>8</td>\n",
              "      <td>0</td>\n",
              "    </tr>\n",
              "    <tr>\n",
              "      <th>3</th>\n",
              "      <td>M Chinnaswamy Stadium</td>\n",
              "      <td>1</td>\n",
              "      <td>0.3</td>\n",
              "      <td>Kolkata Knight Riders</td>\n",
              "      <td>Royal Challengers Bangalore</td>\n",
              "      <td>BB McCullum</td>\n",
              "      <td>SC Ganguly</td>\n",
              "      <td>P Kumar</td>\n",
              "      <td>0.0</td>\n",
              "      <td>1.0</td>\n",
              "      <td>...</td>\n",
              "      <td>-</td>\n",
              "      <td>-</td>\n",
              "      <td>-</td>\n",
              "      <td>-</td>\n",
              "      <td>-</td>\n",
              "      <td>-</td>\n",
              "      <td>-</td>\n",
              "      <td>-</td>\n",
              "      <td>1</td>\n",
              "      <td>0</td>\n",
              "    </tr>\n",
              "    <tr>\n",
              "      <th>4</th>\n",
              "      <td>M Chinnaswamy Stadium</td>\n",
              "      <td>1</td>\n",
              "      <td>0.3</td>\n",
              "      <td>Kolkata Knight Riders</td>\n",
              "      <td>Royal Challengers Bangalore</td>\n",
              "      <td>BB McCullum</td>\n",
              "      <td>SC Ganguly</td>\n",
              "      <td>P Kumar</td>\n",
              "      <td>0.0</td>\n",
              "      <td>1.0</td>\n",
              "      <td>...</td>\n",
              "      <td>-</td>\n",
              "      <td>-</td>\n",
              "      <td>-</td>\n",
              "      <td>-</td>\n",
              "      <td>-</td>\n",
              "      <td>-</td>\n",
              "      <td>-</td>\n",
              "      <td>-</td>\n",
              "      <td>0</td>\n",
              "      <td>0</td>\n",
              "    </tr>\n",
              "  </tbody>\n",
              "</table>\n",
              "<p>5 rows × 43 columns</p>\n",
              "</div>\n",
              "      <button class=\"colab-df-convert\" onclick=\"convertToInteractive('df-f79c92ea-3d85-4471-b1dd-0f4aec31dfe9')\"\n",
              "              title=\"Convert this dataframe to an interactive table.\"\n",
              "              style=\"display:none;\">\n",
              "        \n",
              "  <svg xmlns=\"http://www.w3.org/2000/svg\" height=\"24px\"viewBox=\"0 0 24 24\"\n",
              "       width=\"24px\">\n",
              "    <path d=\"M0 0h24v24H0V0z\" fill=\"none\"/>\n",
              "    <path d=\"M18.56 5.44l.94 2.06.94-2.06 2.06-.94-2.06-.94-.94-2.06-.94 2.06-2.06.94zm-11 1L8.5 8.5l.94-2.06 2.06-.94-2.06-.94L8.5 2.5l-.94 2.06-2.06.94zm10 10l.94 2.06.94-2.06 2.06-.94-2.06-.94-.94-2.06-.94 2.06-2.06.94z\"/><path d=\"M17.41 7.96l-1.37-1.37c-.4-.4-.92-.59-1.43-.59-.52 0-1.04.2-1.43.59L10.3 9.45l-7.72 7.72c-.78.78-.78 2.05 0 2.83L4 21.41c.39.39.9.59 1.41.59.51 0 1.02-.2 1.41-.59l7.78-7.78 2.81-2.81c.8-.78.8-2.07 0-2.86zM5.41 20L4 18.59l7.72-7.72 1.47 1.35L5.41 20z\"/>\n",
              "  </svg>\n",
              "      </button>\n",
              "      \n",
              "  <style>\n",
              "    .colab-df-container {\n",
              "      display:flex;\n",
              "      flex-wrap:wrap;\n",
              "      gap: 12px;\n",
              "    }\n",
              "\n",
              "    .colab-df-convert {\n",
              "      background-color: #E8F0FE;\n",
              "      border: none;\n",
              "      border-radius: 50%;\n",
              "      cursor: pointer;\n",
              "      display: none;\n",
              "      fill: #1967D2;\n",
              "      height: 32px;\n",
              "      padding: 0 0 0 0;\n",
              "      width: 32px;\n",
              "    }\n",
              "\n",
              "    .colab-df-convert:hover {\n",
              "      background-color: #E2EBFA;\n",
              "      box-shadow: 0px 1px 2px rgba(60, 64, 67, 0.3), 0px 1px 3px 1px rgba(60, 64, 67, 0.15);\n",
              "      fill: #174EA6;\n",
              "    }\n",
              "\n",
              "    [theme=dark] .colab-df-convert {\n",
              "      background-color: #3B4455;\n",
              "      fill: #D2E3FC;\n",
              "    }\n",
              "\n",
              "    [theme=dark] .colab-df-convert:hover {\n",
              "      background-color: #434B5C;\n",
              "      box-shadow: 0px 1px 3px 1px rgba(0, 0, 0, 0.15);\n",
              "      filter: drop-shadow(0px 1px 2px rgba(0, 0, 0, 0.3));\n",
              "      fill: #FFFFFF;\n",
              "    }\n",
              "  </style>\n",
              "\n",
              "      <script>\n",
              "        const buttonEl =\n",
              "          document.querySelector('#df-f79c92ea-3d85-4471-b1dd-0f4aec31dfe9 button.colab-df-convert');\n",
              "        buttonEl.style.display =\n",
              "          google.colab.kernel.accessAllowed ? 'block' : 'none';\n",
              "\n",
              "        async function convertToInteractive(key) {\n",
              "          const element = document.querySelector('#df-f79c92ea-3d85-4471-b1dd-0f4aec31dfe9');\n",
              "          const dataTable =\n",
              "            await google.colab.kernel.invokeFunction('convertToInteractive',\n",
              "                                                     [key], {});\n",
              "          if (!dataTable) return;\n",
              "\n",
              "          const docLinkHtml = 'Like what you see? Visit the ' +\n",
              "            '<a target=\"_blank\" href=https://colab.research.google.com/notebooks/data_table.ipynb>data table notebook</a>'\n",
              "            + ' to learn more about interactive tables.';\n",
              "          element.innerHTML = '';\n",
              "          dataTable['output_type'] = 'display_data';\n",
              "          await google.colab.output.renderOutput(dataTable, element);\n",
              "          const docLink = document.createElement('div');\n",
              "          docLink.innerHTML = docLinkHtml;\n",
              "          element.appendChild(docLink);\n",
              "        }\n",
              "      </script>\n",
              "    </div>\n",
              "  </div>\n",
              "  "
            ]
          },
          "metadata": {},
          "execution_count": 177
        }
      ]
    },
    {
      "cell_type": "code",
      "source": [
        "new_ipl.columns"
      ],
      "metadata": {
        "colab": {
          "base_uri": "https://localhost:8080/"
        },
        "id": "HzeKxvzD9XSg",
        "outputId": "6edfab24-17f8-481a-a717-51572a6f432c"
      },
      "execution_count": null,
      "outputs": [
        {
          "output_type": "execute_result",
          "data": {
            "text/plain": [
              "Index(['venue', 'innings', 'ball', 'batting_team', 'bowling_team', 'striker',\n",
              "       'non_striker', 'bowler', 'runs_off_bat', 'extras', 'run', 'wickets',\n",
              "       'truns', 'y', 'Team', 'Player', 'Tournament', 'Matches',\n",
              "       'Batting Innings', 'Not Out', 'Runds Scored', 'Highest Score',\n",
              "       'Batting Average', 'Balls Faced', 'Batting Strike Rate', '100', '50',\n",
              "       '0', '4s', '6s', 'Bowling Innings', 'Overs Bowled', 'Maidens Bowled',\n",
              "       'Runs Conceded', 'Wickets Taken', 'Best Bowling Figures',\n",
              "       'Bowling Average', 'Bowling Economy Rate', 'Bowling Strike Rate',\n",
              "       '4+ Innings Wickets', '5+ Innings Wickets', 'Catches Taken',\n",
              "       'Stumpings Made'],\n",
              "      dtype='object')"
            ]
          },
          "metadata": {},
          "execution_count": 178
        }
      ]
    },
    {
      "cell_type": "code",
      "source": [
        "listf = []\n",
        "for c in new_ipl.columns:\n",
        "    if new_ipl[c].dtype==object:\n",
        "        print(c,\"->\" ,new_ipl[c].dtype)\n",
        "        listf.append(c)"
      ],
      "metadata": {
        "colab": {
          "base_uri": "https://localhost:8080/"
        },
        "id": "AyoaUy039aA7",
        "outputId": "b9d0b90e-96d8-401a-c179-302d9085e01a"
      },
      "execution_count": null,
      "outputs": [
        {
          "output_type": "stream",
          "name": "stdout",
          "text": [
            "venue -> object\n",
            "batting_team -> object\n",
            "bowling_team -> object\n",
            "striker -> object\n",
            "non_striker -> object\n",
            "bowler -> object\n",
            "Team -> object\n",
            "Player -> object\n",
            "Tournament -> object\n",
            "Batting Innings -> object\n",
            "Not Out -> object\n",
            "Runds Scored -> object\n",
            "Highest Score -> object\n",
            "Batting Average -> object\n",
            "Balls Faced -> object\n",
            "Batting Strike Rate -> object\n",
            "100 -> object\n",
            "50 -> object\n",
            "0 -> object\n",
            "4s -> object\n",
            "6s -> object\n",
            "Bowling Innings -> object\n",
            "Overs Bowled -> object\n",
            "Maidens Bowled -> object\n",
            "Runs Conceded -> object\n",
            "Wickets Taken -> object\n",
            "Best Bowling Figures -> object\n",
            "Bowling Average -> object\n",
            "Bowling Economy Rate -> object\n",
            "Bowling Strike Rate -> object\n",
            "4+ Innings Wickets -> object\n",
            "5+ Innings Wickets -> object\n"
          ]
        }
      ]
    },
    {
      "cell_type": "code",
      "source": [
        "def labelEncoding(data):\n",
        "    dataset = pd.DataFrame(new_ipl)\n",
        "    feature_dict ={}\n",
        "    #features={}\n",
        "    for feature in dataset:\n",
        "        if dataset[feature].dtype==object:\n",
        "            le = preprocessing.LabelEncoder()\n",
        "            fs = dataset[feature].unique()\n",
        "            le.fit(fs)\n",
        "            dataset[feature] = le.transform(dataset[feature])\n",
        "            feature_dict[feature] = le\n",
        "            print(feature)\n",
        "    return dataset\n",
        "\n",
        "labelEncoding(new_ipl)"
      ],
      "metadata": {
        "colab": {
          "base_uri": "https://localhost:8080/",
          "height": 1000
        },
        "id": "XaaMPuFT9ee0",
        "outputId": "86528fa6-3870-4396-8dc8-4faff168aecf"
      },
      "execution_count": null,
      "outputs": [
        {
          "output_type": "stream",
          "name": "stdout",
          "text": [
            "venue\n",
            "batting_team\n",
            "bowling_team\n",
            "striker\n",
            "non_striker\n",
            "bowler\n",
            "Team\n",
            "Player\n",
            "Tournament\n",
            "Batting Innings\n",
            "Not Out\n",
            "Runds Scored\n",
            "Highest Score\n",
            "Batting Average\n",
            "Balls Faced\n",
            "Batting Strike Rate\n",
            "100\n",
            "50\n",
            "0\n",
            "4s\n",
            "6s\n",
            "Bowling Innings\n",
            "Overs Bowled\n",
            "Maidens Bowled\n",
            "Runs Conceded\n",
            "Wickets Taken\n",
            "Best Bowling Figures\n",
            "Bowling Average\n",
            "Bowling Economy Rate\n",
            "Bowling Strike Rate\n",
            "4+ Innings Wickets\n",
            "5+ Innings Wickets\n"
          ]
        },
        {
          "output_type": "execute_result",
          "data": {
            "text/plain": [
              "       venue  innings  ball  batting_team  bowling_team  striker  non_striker  \\\n",
              "0         15        1   0.2             7            13       13          164   \n",
              "1         15        1   0.2             7            13       13          164   \n",
              "2         15        1   0.2             7            13       13          164   \n",
              "3         15        1   0.3             7            13       13          164   \n",
              "4         15        1   0.3             7            13       13          164   \n",
              "...      ...      ...   ...           ...           ...      ...          ...   \n",
              "75403      8        1   6.2            13             7        4          193   \n",
              "75404      8        1   6.6            13             7        4          193   \n",
              "75405      8        1   6.6            13             7        4          193   \n",
              "75406      8        1   6.6            13             7        4          193   \n",
              "75407      8        1   6.6            13             7        4          193   \n",
              "\n",
              "       bowler  runs_off_bat  extras  ...  Runs Conceded  Wickets Taken  \\\n",
              "0         197           0.0     0.0  ...              0              0   \n",
              "1         197           0.0     0.0  ...              0              0   \n",
              "2         197           0.0     0.0  ...              0              0   \n",
              "3         197           0.0     1.0  ...              0              0   \n",
              "4         197           0.0     1.0  ...              0              0   \n",
              "...       ...           ...     ...  ...            ...            ...   \n",
              "75403      20           1.0     0.0  ...              0              0   \n",
              "75404      20           0.0     0.0  ...              0              0   \n",
              "75405      20           0.0     0.0  ...              0              0   \n",
              "75406      20           0.0     0.0  ...              0              0   \n",
              "75407      20           0.0     0.0  ...              0              0   \n",
              "\n",
              "       Best Bowling Figures  Bowling Average  Bowling Economy Rate  \\\n",
              "0                         0                0                     0   \n",
              "1                         0                0                     0   \n",
              "2                         0                0                     0   \n",
              "3                         0                0                     0   \n",
              "4                         0                0                     0   \n",
              "...                     ...              ...                   ...   \n",
              "75403                     0                0                     0   \n",
              "75404                     0                0                     0   \n",
              "75405                     0                0                     0   \n",
              "75406                     0                0                     0   \n",
              "75407                     0                0                     0   \n",
              "\n",
              "       Bowling Strike Rate  4+ Innings Wickets  5+ Innings Wickets  \\\n",
              "0                        0                   0                   0   \n",
              "1                        0                   0                   0   \n",
              "2                        0                   0                   0   \n",
              "3                        0                   0                   0   \n",
              "4                        0                   0                   0   \n",
              "...                    ...                 ...                 ...   \n",
              "75403                    0                   0                   0   \n",
              "75404                    0                   0                   0   \n",
              "75405                    0                   0                   0   \n",
              "75406                    0                   0                   0   \n",
              "75407                    0                   0                   0   \n",
              "\n",
              "       Catches Taken  Stumpings Made  \n",
              "0                  1               0  \n",
              "1                  0               0  \n",
              "2                  8               0  \n",
              "3                  1               0  \n",
              "4                  0               0  \n",
              "...              ...             ...  \n",
              "75403              0               0  \n",
              "75404              1               0  \n",
              "75405              1               0  \n",
              "75406              0               0  \n",
              "75407              0               0  \n",
              "\n",
              "[75408 rows x 43 columns]"
            ],
            "text/html": [
              "\n",
              "  <div id=\"df-34775f75-ed15-426f-869a-352b1fa1d5a9\">\n",
              "    <div class=\"colab-df-container\">\n",
              "      <div>\n",
              "<style scoped>\n",
              "    .dataframe tbody tr th:only-of-type {\n",
              "        vertical-align: middle;\n",
              "    }\n",
              "\n",
              "    .dataframe tbody tr th {\n",
              "        vertical-align: top;\n",
              "    }\n",
              "\n",
              "    .dataframe thead th {\n",
              "        text-align: right;\n",
              "    }\n",
              "</style>\n",
              "<table border=\"1\" class=\"dataframe\">\n",
              "  <thead>\n",
              "    <tr style=\"text-align: right;\">\n",
              "      <th></th>\n",
              "      <th>venue</th>\n",
              "      <th>innings</th>\n",
              "      <th>ball</th>\n",
              "      <th>batting_team</th>\n",
              "      <th>bowling_team</th>\n",
              "      <th>striker</th>\n",
              "      <th>non_striker</th>\n",
              "      <th>bowler</th>\n",
              "      <th>runs_off_bat</th>\n",
              "      <th>extras</th>\n",
              "      <th>...</th>\n",
              "      <th>Runs Conceded</th>\n",
              "      <th>Wickets Taken</th>\n",
              "      <th>Best Bowling Figures</th>\n",
              "      <th>Bowling Average</th>\n",
              "      <th>Bowling Economy Rate</th>\n",
              "      <th>Bowling Strike Rate</th>\n",
              "      <th>4+ Innings Wickets</th>\n",
              "      <th>5+ Innings Wickets</th>\n",
              "      <th>Catches Taken</th>\n",
              "      <th>Stumpings Made</th>\n",
              "    </tr>\n",
              "  </thead>\n",
              "  <tbody>\n",
              "    <tr>\n",
              "      <th>0</th>\n",
              "      <td>15</td>\n",
              "      <td>1</td>\n",
              "      <td>0.2</td>\n",
              "      <td>7</td>\n",
              "      <td>13</td>\n",
              "      <td>13</td>\n",
              "      <td>164</td>\n",
              "      <td>197</td>\n",
              "      <td>0.0</td>\n",
              "      <td>0.0</td>\n",
              "      <td>...</td>\n",
              "      <td>0</td>\n",
              "      <td>0</td>\n",
              "      <td>0</td>\n",
              "      <td>0</td>\n",
              "      <td>0</td>\n",
              "      <td>0</td>\n",
              "      <td>0</td>\n",
              "      <td>0</td>\n",
              "      <td>1</td>\n",
              "      <td>0</td>\n",
              "    </tr>\n",
              "    <tr>\n",
              "      <th>1</th>\n",
              "      <td>15</td>\n",
              "      <td>1</td>\n",
              "      <td>0.2</td>\n",
              "      <td>7</td>\n",
              "      <td>13</td>\n",
              "      <td>13</td>\n",
              "      <td>164</td>\n",
              "      <td>197</td>\n",
              "      <td>0.0</td>\n",
              "      <td>0.0</td>\n",
              "      <td>...</td>\n",
              "      <td>0</td>\n",
              "      <td>0</td>\n",
              "      <td>0</td>\n",
              "      <td>0</td>\n",
              "      <td>0</td>\n",
              "      <td>0</td>\n",
              "      <td>0</td>\n",
              "      <td>0</td>\n",
              "      <td>0</td>\n",
              "      <td>0</td>\n",
              "    </tr>\n",
              "    <tr>\n",
              "      <th>2</th>\n",
              "      <td>15</td>\n",
              "      <td>1</td>\n",
              "      <td>0.2</td>\n",
              "      <td>7</td>\n",
              "      <td>13</td>\n",
              "      <td>13</td>\n",
              "      <td>164</td>\n",
              "      <td>197</td>\n",
              "      <td>0.0</td>\n",
              "      <td>0.0</td>\n",
              "      <td>...</td>\n",
              "      <td>0</td>\n",
              "      <td>0</td>\n",
              "      <td>0</td>\n",
              "      <td>0</td>\n",
              "      <td>0</td>\n",
              "      <td>0</td>\n",
              "      <td>0</td>\n",
              "      <td>0</td>\n",
              "      <td>8</td>\n",
              "      <td>0</td>\n",
              "    </tr>\n",
              "    <tr>\n",
              "      <th>3</th>\n",
              "      <td>15</td>\n",
              "      <td>1</td>\n",
              "      <td>0.3</td>\n",
              "      <td>7</td>\n",
              "      <td>13</td>\n",
              "      <td>13</td>\n",
              "      <td>164</td>\n",
              "      <td>197</td>\n",
              "      <td>0.0</td>\n",
              "      <td>1.0</td>\n",
              "      <td>...</td>\n",
              "      <td>0</td>\n",
              "      <td>0</td>\n",
              "      <td>0</td>\n",
              "      <td>0</td>\n",
              "      <td>0</td>\n",
              "      <td>0</td>\n",
              "      <td>0</td>\n",
              "      <td>0</td>\n",
              "      <td>1</td>\n",
              "      <td>0</td>\n",
              "    </tr>\n",
              "    <tr>\n",
              "      <th>4</th>\n",
              "      <td>15</td>\n",
              "      <td>1</td>\n",
              "      <td>0.3</td>\n",
              "      <td>7</td>\n",
              "      <td>13</td>\n",
              "      <td>13</td>\n",
              "      <td>164</td>\n",
              "      <td>197</td>\n",
              "      <td>0.0</td>\n",
              "      <td>1.0</td>\n",
              "      <td>...</td>\n",
              "      <td>0</td>\n",
              "      <td>0</td>\n",
              "      <td>0</td>\n",
              "      <td>0</td>\n",
              "      <td>0</td>\n",
              "      <td>0</td>\n",
              "      <td>0</td>\n",
              "      <td>0</td>\n",
              "      <td>0</td>\n",
              "      <td>0</td>\n",
              "    </tr>\n",
              "    <tr>\n",
              "      <th>...</th>\n",
              "      <td>...</td>\n",
              "      <td>...</td>\n",
              "      <td>...</td>\n",
              "      <td>...</td>\n",
              "      <td>...</td>\n",
              "      <td>...</td>\n",
              "      <td>...</td>\n",
              "      <td>...</td>\n",
              "      <td>...</td>\n",
              "      <td>...</td>\n",
              "      <td>...</td>\n",
              "      <td>...</td>\n",
              "      <td>...</td>\n",
              "      <td>...</td>\n",
              "      <td>...</td>\n",
              "      <td>...</td>\n",
              "      <td>...</td>\n",
              "      <td>...</td>\n",
              "      <td>...</td>\n",
              "      <td>...</td>\n",
              "      <td>...</td>\n",
              "    </tr>\n",
              "    <tr>\n",
              "      <th>75403</th>\n",
              "      <td>8</td>\n",
              "      <td>1</td>\n",
              "      <td>6.2</td>\n",
              "      <td>13</td>\n",
              "      <td>7</td>\n",
              "      <td>4</td>\n",
              "      <td>193</td>\n",
              "      <td>20</td>\n",
              "      <td>1.0</td>\n",
              "      <td>0.0</td>\n",
              "      <td>...</td>\n",
              "      <td>0</td>\n",
              "      <td>0</td>\n",
              "      <td>0</td>\n",
              "      <td>0</td>\n",
              "      <td>0</td>\n",
              "      <td>0</td>\n",
              "      <td>0</td>\n",
              "      <td>0</td>\n",
              "      <td>0</td>\n",
              "      <td>0</td>\n",
              "    </tr>\n",
              "    <tr>\n",
              "      <th>75404</th>\n",
              "      <td>8</td>\n",
              "      <td>1</td>\n",
              "      <td>6.6</td>\n",
              "      <td>13</td>\n",
              "      <td>7</td>\n",
              "      <td>4</td>\n",
              "      <td>193</td>\n",
              "      <td>20</td>\n",
              "      <td>0.0</td>\n",
              "      <td>0.0</td>\n",
              "      <td>...</td>\n",
              "      <td>0</td>\n",
              "      <td>0</td>\n",
              "      <td>0</td>\n",
              "      <td>0</td>\n",
              "      <td>0</td>\n",
              "      <td>0</td>\n",
              "      <td>0</td>\n",
              "      <td>0</td>\n",
              "      <td>1</td>\n",
              "      <td>0</td>\n",
              "    </tr>\n",
              "    <tr>\n",
              "      <th>75405</th>\n",
              "      <td>8</td>\n",
              "      <td>1</td>\n",
              "      <td>6.6</td>\n",
              "      <td>13</td>\n",
              "      <td>7</td>\n",
              "      <td>4</td>\n",
              "      <td>193</td>\n",
              "      <td>20</td>\n",
              "      <td>0.0</td>\n",
              "      <td>0.0</td>\n",
              "      <td>...</td>\n",
              "      <td>0</td>\n",
              "      <td>0</td>\n",
              "      <td>0</td>\n",
              "      <td>0</td>\n",
              "      <td>0</td>\n",
              "      <td>0</td>\n",
              "      <td>0</td>\n",
              "      <td>0</td>\n",
              "      <td>1</td>\n",
              "      <td>0</td>\n",
              "    </tr>\n",
              "    <tr>\n",
              "      <th>75406</th>\n",
              "      <td>8</td>\n",
              "      <td>1</td>\n",
              "      <td>6.6</td>\n",
              "      <td>13</td>\n",
              "      <td>7</td>\n",
              "      <td>4</td>\n",
              "      <td>193</td>\n",
              "      <td>20</td>\n",
              "      <td>0.0</td>\n",
              "      <td>0.0</td>\n",
              "      <td>...</td>\n",
              "      <td>0</td>\n",
              "      <td>0</td>\n",
              "      <td>0</td>\n",
              "      <td>0</td>\n",
              "      <td>0</td>\n",
              "      <td>0</td>\n",
              "      <td>0</td>\n",
              "      <td>0</td>\n",
              "      <td>0</td>\n",
              "      <td>0</td>\n",
              "    </tr>\n",
              "    <tr>\n",
              "      <th>75407</th>\n",
              "      <td>8</td>\n",
              "      <td>1</td>\n",
              "      <td>6.6</td>\n",
              "      <td>13</td>\n",
              "      <td>7</td>\n",
              "      <td>4</td>\n",
              "      <td>193</td>\n",
              "      <td>20</td>\n",
              "      <td>0.0</td>\n",
              "      <td>0.0</td>\n",
              "      <td>...</td>\n",
              "      <td>0</td>\n",
              "      <td>0</td>\n",
              "      <td>0</td>\n",
              "      <td>0</td>\n",
              "      <td>0</td>\n",
              "      <td>0</td>\n",
              "      <td>0</td>\n",
              "      <td>0</td>\n",
              "      <td>0</td>\n",
              "      <td>0</td>\n",
              "    </tr>\n",
              "  </tbody>\n",
              "</table>\n",
              "<p>75408 rows × 43 columns</p>\n",
              "</div>\n",
              "      <button class=\"colab-df-convert\" onclick=\"convertToInteractive('df-34775f75-ed15-426f-869a-352b1fa1d5a9')\"\n",
              "              title=\"Convert this dataframe to an interactive table.\"\n",
              "              style=\"display:none;\">\n",
              "        \n",
              "  <svg xmlns=\"http://www.w3.org/2000/svg\" height=\"24px\"viewBox=\"0 0 24 24\"\n",
              "       width=\"24px\">\n",
              "    <path d=\"M0 0h24v24H0V0z\" fill=\"none\"/>\n",
              "    <path d=\"M18.56 5.44l.94 2.06.94-2.06 2.06-.94-2.06-.94-.94-2.06-.94 2.06-2.06.94zm-11 1L8.5 8.5l.94-2.06 2.06-.94-2.06-.94L8.5 2.5l-.94 2.06-2.06.94zm10 10l.94 2.06.94-2.06 2.06-.94-2.06-.94-.94-2.06-.94 2.06-2.06.94z\"/><path d=\"M17.41 7.96l-1.37-1.37c-.4-.4-.92-.59-1.43-.59-.52 0-1.04.2-1.43.59L10.3 9.45l-7.72 7.72c-.78.78-.78 2.05 0 2.83L4 21.41c.39.39.9.59 1.41.59.51 0 1.02-.2 1.41-.59l7.78-7.78 2.81-2.81c.8-.78.8-2.07 0-2.86zM5.41 20L4 18.59l7.72-7.72 1.47 1.35L5.41 20z\"/>\n",
              "  </svg>\n",
              "      </button>\n",
              "      \n",
              "  <style>\n",
              "    .colab-df-container {\n",
              "      display:flex;\n",
              "      flex-wrap:wrap;\n",
              "      gap: 12px;\n",
              "    }\n",
              "\n",
              "    .colab-df-convert {\n",
              "      background-color: #E8F0FE;\n",
              "      border: none;\n",
              "      border-radius: 50%;\n",
              "      cursor: pointer;\n",
              "      display: none;\n",
              "      fill: #1967D2;\n",
              "      height: 32px;\n",
              "      padding: 0 0 0 0;\n",
              "      width: 32px;\n",
              "    }\n",
              "\n",
              "    .colab-df-convert:hover {\n",
              "      background-color: #E2EBFA;\n",
              "      box-shadow: 0px 1px 2px rgba(60, 64, 67, 0.3), 0px 1px 3px 1px rgba(60, 64, 67, 0.15);\n",
              "      fill: #174EA6;\n",
              "    }\n",
              "\n",
              "    [theme=dark] .colab-df-convert {\n",
              "      background-color: #3B4455;\n",
              "      fill: #D2E3FC;\n",
              "    }\n",
              "\n",
              "    [theme=dark] .colab-df-convert:hover {\n",
              "      background-color: #434B5C;\n",
              "      box-shadow: 0px 1px 3px 1px rgba(0, 0, 0, 0.15);\n",
              "      filter: drop-shadow(0px 1px 2px rgba(0, 0, 0, 0.3));\n",
              "      fill: #FFFFFF;\n",
              "    }\n",
              "  </style>\n",
              "\n",
              "      <script>\n",
              "        const buttonEl =\n",
              "          document.querySelector('#df-34775f75-ed15-426f-869a-352b1fa1d5a9 button.colab-df-convert');\n",
              "        buttonEl.style.display =\n",
              "          google.colab.kernel.accessAllowed ? 'block' : 'none';\n",
              "\n",
              "        async function convertToInteractive(key) {\n",
              "          const element = document.querySelector('#df-34775f75-ed15-426f-869a-352b1fa1d5a9');\n",
              "          const dataTable =\n",
              "            await google.colab.kernel.invokeFunction('convertToInteractive',\n",
              "                                                     [key], {});\n",
              "          if (!dataTable) return;\n",
              "\n",
              "          const docLinkHtml = 'Like what you see? Visit the ' +\n",
              "            '<a target=\"_blank\" href=https://colab.research.google.com/notebooks/data_table.ipynb>data table notebook</a>'\n",
              "            + ' to learn more about interactive tables.';\n",
              "          element.innerHTML = '';\n",
              "          dataTable['output_type'] = 'display_data';\n",
              "          await google.colab.output.renderOutput(dataTable, element);\n",
              "          const docLink = document.createElement('div');\n",
              "          docLink.innerHTML = docLinkHtml;\n",
              "          element.appendChild(docLink);\n",
              "        }\n",
              "      </script>\n",
              "    </div>\n",
              "  </div>\n",
              "  "
            ]
          },
          "metadata": {},
          "execution_count": 180
        }
      ]
    },
    {
      "cell_type": "code",
      "source": [
        "# Feature enginneering.\n",
        "\n",
        "X = new_ipl.drop('y',axis=1).values\n",
        "y = new_ipl['y'].values"
      ],
      "metadata": {
        "id": "7AhMfmlJ9hxR"
      },
      "execution_count": null,
      "outputs": []
    },
    {
      "cell_type": "code",
      "source": [
        "from sklearn.model_selection import train_test_split\n",
        "X_train, X_test, y_train, y_test = train_test_split(X, y, test_size=0.33, random_state=42)\n",
        "from sklearn.preprocessing import MinMaxScaler\n",
        "# Scaling the data using MinMaxScaler which is important when we deal with neural nets\n",
        "\n",
        "scaler = MinMaxScaler()\n",
        "X_train = scaler.fit_transform(X_train)\n",
        "# Can't fit the X_test because it should not be scaled as it is to be predicted\n",
        "\n",
        "X_test = scaler.transform(X_test)"
      ],
      "metadata": {
        "id": "HNo9jglc9ksO"
      },
      "execution_count": null,
      "outputs": []
    },
    {
      "cell_type": "code",
      "source": [
        "from tensorflow.keras.models import Sequential\n",
        "from tensorflow.keras.layers import Dense,Dropout"
      ],
      "metadata": {
        "id": "oKv0MxFE9nXZ"
      },
      "execution_count": null,
      "outputs": []
    },
    {
      "cell_type": "code",
      "source": [
        "X_train.shape"
      ],
      "metadata": {
        "colab": {
          "base_uri": "https://localhost:8080/"
        },
        "id": "XN7_g5tI9qjn",
        "outputId": "44a7a202-a954-48c7-c8cf-ac7ba308cb47"
      },
      "execution_count": null,
      "outputs": [
        {
          "output_type": "execute_result",
          "data": {
            "text/plain": [
              "(50523, 42)"
            ]
          },
          "metadata": {},
          "execution_count": 185
        }
      ]
    },
    {
      "cell_type": "code",
      "source": [
        "from tensorflow.keras.callbacks import EarlyStopping"
      ],
      "metadata": {
        "id": "DgTDutgm9rC8"
      },
      "execution_count": null,
      "outputs": []
    },
    {
      "cell_type": "code",
      "source": [
        "early_stop = EarlyStopping(monitor='val_loss',patience=25,verbose=1, mode='min',)"
      ],
      "metadata": {
        "id": "3JFSByae9tyZ"
      },
      "execution_count": null,
      "outputs": []
    },
    {
      "cell_type": "code",
      "source": [
        "model = Sequential()\n",
        "\n",
        "model.add(Dense(43, activation='relu'))\n",
        "model.add(Dropout(0.5))\n",
        "\n",
        "model.add(Dense(22, activation='relu'))\n",
        "model.add(Dropout(0.5))\n",
        "\n",
        "model.add(Dense(11, activation='relu'))\n",
        "model.add(Dropout(0.5))\n",
        "\n",
        "model.add(Dense(1))\n",
        "\n",
        "model.compile(optimizer='adam', loss='mse')\n",
        "# used loss=mse(mean squared error) because it a regression task."
      ],
      "metadata": {
        "id": "N0vK3tcr98-z"
      },
      "execution_count": null,
      "outputs": []
    },
    {
      "cell_type": "code",
      "source": [
        "model.fit(x=X_train, y=y_train, epochs=400, validation_data=(X_test,y_test),callbacks=[early_stop] )"
      ],
      "metadata": {
        "colab": {
          "base_uri": "https://localhost:8080/"
        },
        "id": "3RPPcn0e9znD",
        "outputId": "c2e8aab6-609d-4c62-9fbf-26018956f107"
      },
      "execution_count": null,
      "outputs": [
        {
          "output_type": "stream",
          "name": "stdout",
          "text": [
            "Epoch 1/400\n",
            "1579/1579 [==============================] - 8s 4ms/step - loss: 859.7322 - val_loss: 261.3434\n",
            "Epoch 2/400\n",
            "1579/1579 [==============================] - 11s 7ms/step - loss: 536.2653 - val_loss: 167.3199\n",
            "Epoch 3/400\n",
            "1579/1579 [==============================] - 9s 6ms/step - loss: 481.5348 - val_loss: 150.5868\n",
            "Epoch 4/400\n",
            "1579/1579 [==============================] - 11s 7ms/step - loss: 441.6080 - val_loss: 146.8954\n",
            "Epoch 5/400\n",
            "1579/1579 [==============================] - 11s 7ms/step - loss: 406.6986 - val_loss: 125.7233\n",
            "Epoch 6/400\n",
            "1579/1579 [==============================] - 7s 5ms/step - loss: 380.5144 - val_loss: 120.3184\n",
            "Epoch 7/400\n",
            "1579/1579 [==============================] - 8s 5ms/step - loss: 349.1451 - val_loss: 119.4212\n",
            "Epoch 8/400\n",
            "1579/1579 [==============================] - 7s 5ms/step - loss: 331.6587 - val_loss: 116.7619\n",
            "Epoch 9/400\n",
            "1579/1579 [==============================] - 8s 5ms/step - loss: 311.1024 - val_loss: 114.4650\n",
            "Epoch 10/400\n",
            "1579/1579 [==============================] - 6s 4ms/step - loss: 297.5104 - val_loss: 103.8941\n",
            "Epoch 11/400\n",
            "1579/1579 [==============================] - 6s 4ms/step - loss: 283.5909 - val_loss: 89.3487\n",
            "Epoch 12/400\n",
            "1579/1579 [==============================] - 6s 4ms/step - loss: 267.4276 - val_loss: 107.4072\n",
            "Epoch 13/400\n",
            "1579/1579 [==============================] - 6s 4ms/step - loss: 257.8804 - val_loss: 91.8707\n",
            "Epoch 14/400\n",
            "1579/1579 [==============================] - 6s 4ms/step - loss: 246.6119 - val_loss: 116.7341\n",
            "Epoch 15/400\n",
            "1579/1579 [==============================] - 7s 4ms/step - loss: 234.8798 - val_loss: 107.4833\n",
            "Epoch 16/400\n",
            "1579/1579 [==============================] - 6s 4ms/step - loss: 225.2089 - val_loss: 112.8671\n",
            "Epoch 17/400\n",
            "1579/1579 [==============================] - 5s 3ms/step - loss: 215.6445 - val_loss: 97.8831\n",
            "Epoch 18/400\n",
            "1579/1579 [==============================] - 4s 3ms/step - loss: 203.8938 - val_loss: 97.4666\n",
            "Epoch 19/400\n",
            "1579/1579 [==============================] - 4s 2ms/step - loss: 194.6341 - val_loss: 104.3101\n",
            "Epoch 20/400\n",
            "1579/1579 [==============================] - 5s 3ms/step - loss: 187.0446 - val_loss: 96.5698\n",
            "Epoch 21/400\n",
            "1579/1579 [==============================] - 4s 3ms/step - loss: 178.0644 - val_loss: 92.7664\n",
            "Epoch 22/400\n",
            "1579/1579 [==============================] - 8s 5ms/step - loss: 170.9065 - val_loss: 92.1356\n",
            "Epoch 23/400\n",
            "1579/1579 [==============================] - 5s 3ms/step - loss: 162.3987 - val_loss: 85.7998\n",
            "Epoch 24/400\n",
            "1579/1579 [==============================] - 5s 3ms/step - loss: 156.0669 - val_loss: 83.7371\n",
            "Epoch 25/400\n",
            "1579/1579 [==============================] - 5s 3ms/step - loss: 149.5482 - val_loss: 90.7017\n",
            "Epoch 26/400\n",
            "1579/1579 [==============================] - 4s 3ms/step - loss: 144.7507 - val_loss: 86.4560\n",
            "Epoch 27/400\n",
            "1579/1579 [==============================] - 4s 3ms/step - loss: 138.2433 - val_loss: 82.2555\n",
            "Epoch 28/400\n",
            "1579/1579 [==============================] - 5s 3ms/step - loss: 133.1673 - val_loss: 82.5159\n",
            "Epoch 29/400\n",
            "1579/1579 [==============================] - 4s 3ms/step - loss: 129.7359 - val_loss: 82.1023\n",
            "Epoch 30/400\n",
            "1579/1579 [==============================] - 5s 3ms/step - loss: 126.4596 - val_loss: 83.3452\n",
            "Epoch 31/400\n",
            "1579/1579 [==============================] - 5s 3ms/step - loss: 121.5598 - val_loss: 81.7916\n",
            "Epoch 32/400\n",
            "1579/1579 [==============================] - 4s 3ms/step - loss: 118.7835 - val_loss: 84.7926\n",
            "Epoch 33/400\n",
            "1579/1579 [==============================] - 4s 3ms/step - loss: 115.6116 - val_loss: 79.8336\n",
            "Epoch 34/400\n",
            "1579/1579 [==============================] - 4s 3ms/step - loss: 112.8581 - val_loss: 83.1374\n",
            "Epoch 35/400\n",
            "1579/1579 [==============================] - 4s 3ms/step - loss: 110.5264 - val_loss: 84.8947\n",
            "Epoch 36/400\n",
            "1579/1579 [==============================] - 4s 3ms/step - loss: 108.3137 - val_loss: 80.0508\n",
            "Epoch 37/400\n",
            "1579/1579 [==============================] - 4s 3ms/step - loss: 106.2628 - val_loss: 79.1332\n",
            "Epoch 38/400\n",
            "1579/1579 [==============================] - 4s 3ms/step - loss: 105.9068 - val_loss: 82.5840\n",
            "Epoch 39/400\n",
            "1579/1579 [==============================] - 4s 3ms/step - loss: 103.9145 - val_loss: 83.1065\n",
            "Epoch 40/400\n",
            "1579/1579 [==============================] - 4s 3ms/step - loss: 103.3010 - val_loss: 85.1060\n",
            "Epoch 41/400\n",
            "1579/1579 [==============================] - 5s 3ms/step - loss: 102.8811 - val_loss: 92.1729\n",
            "Epoch 42/400\n",
            "1579/1579 [==============================] - 4s 3ms/step - loss: 101.9460 - val_loss: 80.1232\n",
            "Epoch 43/400\n",
            "1579/1579 [==============================] - 4s 3ms/step - loss: 101.7213 - val_loss: 82.3550\n",
            "Epoch 44/400\n",
            "1579/1579 [==============================] - 4s 2ms/step - loss: 101.4566 - val_loss: 81.8600\n",
            "Epoch 45/400\n",
            "1579/1579 [==============================] - 4s 2ms/step - loss: 100.9072 - val_loss: 82.9507\n",
            "Epoch 46/400\n",
            "1579/1579 [==============================] - 4s 3ms/step - loss: 101.1151 - val_loss: 85.3558\n",
            "Epoch 47/400\n",
            "1579/1579 [==============================] - 4s 3ms/step - loss: 101.2544 - val_loss: 82.2438\n",
            "Epoch 48/400\n",
            "1579/1579 [==============================] - 4s 2ms/step - loss: 100.7641 - val_loss: 82.4678\n",
            "Epoch 49/400\n",
            "1579/1579 [==============================] - 4s 3ms/step - loss: 100.6282 - val_loss: 87.1697\n",
            "Epoch 50/400\n",
            "1579/1579 [==============================] - 4s 2ms/step - loss: 101.0216 - val_loss: 88.4938\n",
            "Epoch 51/400\n",
            "1579/1579 [==============================] - 4s 2ms/step - loss: 100.8022 - val_loss: 84.5194\n",
            "Epoch 52/400\n",
            "1579/1579 [==============================] - 6s 4ms/step - loss: 100.8058 - val_loss: 83.7572\n",
            "Epoch 53/400\n",
            "1579/1579 [==============================] - 4s 3ms/step - loss: 100.4572 - val_loss: 86.1849\n",
            "Epoch 54/400\n",
            "1579/1579 [==============================] - 4s 2ms/step - loss: 101.1520 - val_loss: 82.4972\n",
            "Epoch 55/400\n",
            "1579/1579 [==============================] - 4s 2ms/step - loss: 100.9123 - val_loss: 83.8280\n",
            "Epoch 56/400\n",
            "1579/1579 [==============================] - 4s 2ms/step - loss: 100.9859 - val_loss: 83.0029\n",
            "Epoch 57/400\n",
            "1579/1579 [==============================] - 4s 3ms/step - loss: 100.5271 - val_loss: 85.9300\n",
            "Epoch 58/400\n",
            "1579/1579 [==============================] - 4s 3ms/step - loss: 100.0921 - val_loss: 84.0434\n",
            "Epoch 59/400\n",
            "1579/1579 [==============================] - 4s 3ms/step - loss: 101.0400 - val_loss: 82.6015\n",
            "Epoch 60/400\n",
            "1579/1579 [==============================] - 4s 3ms/step - loss: 100.7877 - val_loss: 82.0723\n",
            "Epoch 61/400\n",
            "1579/1579 [==============================] - 4s 3ms/step - loss: 100.5467 - val_loss: 84.5506\n",
            "Epoch 62/400\n",
            "1579/1579 [==============================] - 4s 3ms/step - loss: 101.2315 - val_loss: 88.3078\n",
            "Epoch 62: early stopping\n"
          ]
        },
        {
          "output_type": "execute_result",
          "data": {
            "text/plain": [
              "<keras.callbacks.History at 0x7f4d24122c50>"
            ]
          },
          "metadata": {},
          "execution_count": 189
        }
      ]
    },
    {
      "cell_type": "code",
      "source": [
        "model_losses = pd.DataFrame(model.history.history)"
      ],
      "metadata": {
        "id": "Z63pRUo79_-B"
      },
      "execution_count": null,
      "outputs": []
    },
    {
      "cell_type": "code",
      "source": [
        "model_losses.plot()"
      ],
      "metadata": {
        "colab": {
          "base_uri": "https://localhost:8080/",
          "height": 287
        },
        "id": "bzXANoIA-EW8",
        "outputId": "e185c72e-eeb9-4c92-8c92-2a6e289d118d"
      },
      "execution_count": null,
      "outputs": [
        {
          "output_type": "execute_result",
          "data": {
            "text/plain": [
              "<matplotlib.axes._subplots.AxesSubplot at 0x7f4d22898f10>"
            ]
          },
          "metadata": {},
          "execution_count": 191
        },
        {
          "output_type": "display_data",
          "data": {
            "text/plain": [
              "<Figure size 432x288 with 1 Axes>"
            ],
            "image/png": "[encoded data removed]"
          },
          "metadata": {
            "needs_background": "light"
          }
        }
      ]
    },
    {
      "cell_type": "code",
      "source": [
        "predictions = model.predict(X_test)"
      ],
      "metadata": {
        "id": "RygF-i8E-HAU"
      },
      "execution_count": null,
      "outputs": []
    },
    {
      "cell_type": "code",
      "source": [
        "from sklearn.metrics import mean_absolute_error,mean_squared_error,accuracy_score"
      ],
      "metadata": {
        "id": "tyrWk0f4-Jqn"
      },
      "execution_count": null,
      "outputs": []
    },
    {
      "cell_type": "code",
      "source": [
        "mean_absolute_error(y_test,predictions)"
      ],
      "metadata": {
        "colab": {
          "base_uri": "https://localhost:8080/"
        },
        "id": "g9T28Ul_-Mc-",
        "outputId": "ff7edb5f-19a4-405d-88cb-e32a6ead4b20"
      },
      "execution_count": null,
      "outputs": [
        {
          "output_type": "execute_result",
          "data": {
            "text/plain": [
              "7.155929326139254"
            ]
          },
          "metadata": {},
          "execution_count": 194
        }
      ]
    },
    {
      "cell_type": "code",
      "source": [
        "np.sqrt(mean_squared_error(y_test,predictions))"
      ],
      "metadata": {
        "colab": {
          "base_uri": "https://localhost:8080/"
        },
        "id": "RCDuREJm-QHM",
        "outputId": "ecddb2aa-9a0f-426c-e251-c07cce7288fb"
      },
      "execution_count": null,
      "outputs": [
        {
          "output_type": "execute_result",
          "data": {
            "text/plain": [
              "9.397226490854257"
            ]
          },
          "metadata": {},
          "execution_count": 195
        }
      ]
    },
    {
      "cell_type": "code",
      "source": [
        "plt.figure(figsize=(10,6))\n",
        "plt.scatter(y_test,predictions)"
      ],
      "metadata": {
        "id": "29m5X-i--TGM",
        "colab": {
          "base_uri": "https://localhost:8080/",
          "height": 399
        },
        "outputId": "6c7c442f-59c4-4b84-c244-923f451ce7af"
      },
      "execution_count": 198,
      "outputs": [
        {
          "output_type": "execute_result",
          "data": {
            "text/plain": [
              "<matplotlib.collections.PathCollection at 0x7f4d23fd41d0>"
            ]
          },
          "metadata": {},
          "execution_count": 198
        },
        {
          "output_type": "display_data",
          "data": {
            "text/plain": [
              "<Figure size 720x432 with 1 Axes>"
            ],
            "image/png": "[encoded data removed]"
          },
          "metadata": {
            "needs_background": "light"
          }
        }
      ]
    },
    {
      "cell_type": "code",
      "source": [
        "sample = pd.DataFrame(predictions,columns=['Predict'])\n",
        "sample['Actual']=y_test"
      ],
      "metadata": {
        "id": "MVcns8GN-XmM"
      },
      "execution_count": 199,
      "outputs": []
    },
    {
      "cell_type": "code",
      "source": [
        "sample.head(10)"
      ],
      "metadata": {
        "id": "n-tfUkcz-Zll",
        "colab": {
          "base_uri": "https://localhost:8080/",
          "height": 363
        },
        "outputId": "d311d094-085d-4882-b8fa-41f8187581d4"
      },
      "execution_count": 200,
      "outputs": [
        {
          "output_type": "execute_result",
          "data": {
            "text/plain": [
              "     Predict  Actual\n",
              "0  46.368195    49.0\n",
              "1  45.974747    47.0\n",
              "2  45.974747    37.0\n",
              "3  59.382980    63.0\n",
              "4  50.160568    57.0\n",
              "5  53.815170    59.0\n",
              "6  46.838505    37.0\n",
              "7  45.980495    47.0\n",
              "8  49.683220    45.0\n",
              "9  48.919266    56.0"
            ],
            "text/html": [
              "\n",
              "  <div id=\"df-23b879a8-6aa1-404b-857d-8ed4d380d7d0\">\n",
              "    <div class=\"colab-df-container\">\n",
              "      <div>\n",
              "<style scoped>\n",
              "    .dataframe tbody tr th:only-of-type {\n",
              "        vertical-align: middle;\n",
              "    }\n",
              "\n",
              "    .dataframe tbody tr th {\n",
              "        vertical-align: top;\n",
              "    }\n",
              "\n",
              "    .dataframe thead th {\n",
              "        text-align: right;\n",
              "    }\n",
              "</style>\n",
              "<table border=\"1\" class=\"dataframe\">\n",
              "  <thead>\n",
              "    <tr style=\"text-align: right;\">\n",
              "      <th></th>\n",
              "      <th>Predict</th>\n",
              "      <th>Actual</th>\n",
              "    </tr>\n",
              "  </thead>\n",
              "  <tbody>\n",
              "    <tr>\n",
              "      <th>0</th>\n",
              "      <td>46.368195</td>\n",
              "      <td>49.0</td>\n",
              "    </tr>\n",
              "    <tr>\n",
              "      <th>1</th>\n",
              "      <td>45.974747</td>\n",
              "      <td>47.0</td>\n",
              "    </tr>\n",
              "    <tr>\n",
              "      <th>2</th>\n",
              "      <td>45.974747</td>\n",
              "      <td>37.0</td>\n",
              "    </tr>\n",
              "    <tr>\n",
              "      <th>3</th>\n",
              "      <td>59.382980</td>\n",
              "      <td>63.0</td>\n",
              "    </tr>\n",
              "    <tr>\n",
              "      <th>4</th>\n",
              "      <td>50.160568</td>\n",
              "      <td>57.0</td>\n",
              "    </tr>\n",
              "    <tr>\n",
              "      <th>5</th>\n",
              "      <td>53.815170</td>\n",
              "      <td>59.0</td>\n",
              "    </tr>\n",
              "    <tr>\n",
              "      <th>6</th>\n",
              "      <td>46.838505</td>\n",
              "      <td>37.0</td>\n",
              "    </tr>\n",
              "    <tr>\n",
              "      <th>7</th>\n",
              "      <td>45.980495</td>\n",
              "      <td>47.0</td>\n",
              "    </tr>\n",
              "    <tr>\n",
              "      <th>8</th>\n",
              "      <td>49.683220</td>\n",
              "      <td>45.0</td>\n",
              "    </tr>\n",
              "    <tr>\n",
              "      <th>9</th>\n",
              "      <td>48.919266</td>\n",
              "      <td>56.0</td>\n",
              "    </tr>\n",
              "  </tbody>\n",
              "</table>\n",
              "</div>\n",
              "      <button class=\"colab-df-convert\" onclick=\"convertToInteractive('df-23b879a8-6aa1-404b-857d-8ed4d380d7d0')\"\n",
              "              title=\"Convert this dataframe to an interactive table.\"\n",
              "              style=\"display:none;\">\n",
              "        \n",
              "  <svg xmlns=\"http://www.w3.org/2000/svg\" height=\"24px\"viewBox=\"0 0 24 24\"\n",
              "       width=\"24px\">\n",
              "    <path d=\"M0 0h24v24H0V0z\" fill=\"none\"/>\n",
              "    <path d=\"M18.56 5.44l.94 2.06.94-2.06 2.06-.94-2.06-.94-.94-2.06-.94 2.06-2.06.94zm-11 1L8.5 8.5l.94-2.06 2.06-.94-2.06-.94L8.5 2.5l-.94 2.06-2.06.94zm10 10l.94 2.06.94-2.06 2.06-.94-2.06-.94-.94-2.06-.94 2.06-2.06.94z\"/><path d=\"M17.41 7.96l-1.37-1.37c-.4-.4-.92-.59-1.43-.59-.52 0-1.04.2-1.43.59L10.3 9.45l-7.72 7.72c-.78.78-.78 2.05 0 2.83L4 21.41c.39.39.9.59 1.41.59.51 0 1.02-.2 1.41-.59l7.78-7.78 2.81-2.81c.8-.78.8-2.07 0-2.86zM5.41 20L4 18.59l7.72-7.72 1.47 1.35L5.41 20z\"/>\n",
              "  </svg>\n",
              "      </button>\n",
              "      \n",
              "  <style>\n",
              "    .colab-df-container {\n",
              "      display:flex;\n",
              "      flex-wrap:wrap;\n",
              "      gap: 12px;\n",
              "    }\n",
              "\n",
              "    .colab-df-convert {\n",
              "      background-color: #E8F0FE;\n",
              "      border: none;\n",
              "      border-radius: 50%;\n",
              "      cursor: pointer;\n",
              "      display: none;\n",
              "      fill: #1967D2;\n",
              "      height: 32px;\n",
              "      padding: 0 0 0 0;\n",
              "      width: 32px;\n",
              "    }\n",
              "\n",
              "    .colab-df-convert:hover {\n",
              "      background-color: #E2EBFA;\n",
              "      box-shadow: 0px 1px 2px rgba(60, 64, 67, 0.3), 0px 1px 3px 1px rgba(60, 64, 67, 0.15);\n",
              "      fill: #174EA6;\n",
              "    }\n",
              "\n",
              "    [theme=dark] .colab-df-convert {\n",
              "      background-color: #3B4455;\n",
              "      fill: #D2E3FC;\n",
              "    }\n",
              "\n",
              "    [theme=dark] .colab-df-convert:hover {\n",
              "      background-color: #434B5C;\n",
              "      box-shadow: 0px 1px 3px 1px rgba(0, 0, 0, 0.15);\n",
              "      filter: drop-shadow(0px 1px 2px rgba(0, 0, 0, 0.3));\n",
              "      fill: #FFFFFF;\n",
              "    }\n",
              "  </style>\n",
              "\n",
              "      <script>\n",
              "        const buttonEl =\n",
              "          document.querySelector('#df-23b879a8-6aa1-404b-857d-8ed4d380d7d0 button.colab-df-convert');\n",
              "        buttonEl.style.display =\n",
              "          google.colab.kernel.accessAllowed ? 'block' : 'none';\n",
              "\n",
              "        async function convertToInteractive(key) {\n",
              "          const element = document.querySelector('#df-23b879a8-6aa1-404b-857d-8ed4d380d7d0');\n",
              "          const dataTable =\n",
              "            await google.colab.kernel.invokeFunction('convertToInteractive',\n",
              "                                                     [key], {});\n",
              "          if (!dataTable) return;\n",
              "\n",
              "          const docLinkHtml = 'Like what you see? Visit the ' +\n",
              "            '<a target=\"_blank\" href=https://colab.research.google.com/notebooks/data_table.ipynb>data table notebook</a>'\n",
              "            + ' to learn more about interactive tables.';\n",
              "          element.innerHTML = '';\n",
              "          dataTable['output_type'] = 'display_data';\n",
              "          await google.colab.output.renderOutput(dataTable, element);\n",
              "          const docLink = document.createElement('div');\n",
              "          docLink.innerHTML = docLinkHtml;\n",
              "          element.appendChild(docLink);\n",
              "        }\n",
              "      </script>\n",
              "    </div>\n",
              "  </div>\n",
              "  "
            ]
          },
          "metadata": {},
          "execution_count": 200
        }
      ]
    }
  ],
  "metadata": {
    "colab": {
      "name": "ipl_analysis_self_project",
      "provenance": [],
      "mount_file_id": "1WFqxMlLcjPtLBrP7ugBH2iQTzq9D7zHi",
      "authorship_tag": "ABX9TyN9bKEG4x6J2RLgxXGuEbDw",
      "include_colab_link": true
    },
    "kernelspec": {
      "display_name": "Python 3",
      "name": "python3"
    },
    "language_info": {
      "name": "python"
    }
  },
  "nbformat": 4,
  "nbformat_minor": 0
}